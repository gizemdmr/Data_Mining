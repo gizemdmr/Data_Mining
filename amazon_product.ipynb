{
 "cells": [
  {
   "cell_type": "code",
   "execution_count": 1,
   "metadata": {},
   "outputs": [
    {
     "name": "stderr",
     "output_type": "stream",
     "text": [
      "Using TensorFlow backend.\n"
     ]
    }
   ],
   "source": [
    "from textblob import TextBlob\n",
    "from sklearn import model_selection, preprocessing, linear_model, naive_bayes, metrics\n",
    "from sklearn.feature_extraction.text import TfidfVectorizer, CountVectorizer\n",
    "from sklearn import decomposition, ensemble\n",
    "\n",
    "import pandas, numpy, textblob, string\n",
    "from keras.preprocessing import text, sequence\n",
    "from keras import layers, models, optimizers\n",
    "\n",
    "\n",
    "from warnings import filterwarnings\n",
    "filterwarnings('ignore')"
   ]
  },
  {
   "cell_type": "code",
   "execution_count": 2,
   "metadata": {},
   "outputs": [],
   "source": [
    "import pandas as pd \n",
    "data = pd.read_csv('datasets/1429_1.csv')"
   ]
  },
  {
   "cell_type": "code",
   "execution_count": 3,
   "metadata": {},
   "outputs": [
    {
     "data": {
      "text/html": [
       "<div>\n",
       "<style scoped>\n",
       "    .dataframe tbody tr th:only-of-type {\n",
       "        vertical-align: middle;\n",
       "    }\n",
       "\n",
       "    .dataframe tbody tr th {\n",
       "        vertical-align: top;\n",
       "    }\n",
       "\n",
       "    .dataframe thead th {\n",
       "        text-align: right;\n",
       "    }\n",
       "</style>\n",
       "<table border=\"1\" class=\"dataframe\">\n",
       "  <thead>\n",
       "    <tr style=\"text-align: right;\">\n",
       "      <th></th>\n",
       "      <th>id</th>\n",
       "      <th>name</th>\n",
       "      <th>asins</th>\n",
       "      <th>brand</th>\n",
       "      <th>categories</th>\n",
       "      <th>keys</th>\n",
       "      <th>manufacturer</th>\n",
       "      <th>reviews.date</th>\n",
       "      <th>reviews.dateAdded</th>\n",
       "      <th>reviews.dateSeen</th>\n",
       "      <th>...</th>\n",
       "      <th>reviews.doRecommend</th>\n",
       "      <th>reviews.id</th>\n",
       "      <th>reviews.numHelpful</th>\n",
       "      <th>reviews.rating</th>\n",
       "      <th>reviews.sourceURLs</th>\n",
       "      <th>reviews.text</th>\n",
       "      <th>reviews.title</th>\n",
       "      <th>reviews.userCity</th>\n",
       "      <th>reviews.userProvince</th>\n",
       "      <th>reviews.username</th>\n",
       "    </tr>\n",
       "  </thead>\n",
       "  <tbody>\n",
       "    <tr>\n",
       "      <th>0</th>\n",
       "      <td>AVqkIhwDv8e3D1O-lebb</td>\n",
       "      <td>All-New Fire HD 8 Tablet, 8 HD Display, Wi-Fi,...</td>\n",
       "      <td>B01AHB9CN2</td>\n",
       "      <td>Amazon</td>\n",
       "      <td>Electronics,iPad &amp; Tablets,All Tablets,Fire Ta...</td>\n",
       "      <td>841667104676,amazon/53004484,amazon/b01ahb9cn2...</td>\n",
       "      <td>Amazon</td>\n",
       "      <td>2017-01-13T00:00:00.000Z</td>\n",
       "      <td>2017-07-03T23:33:15Z</td>\n",
       "      <td>2017-06-07T09:04:00.000Z,2017-04-30T00:45:00.000Z</td>\n",
       "      <td>...</td>\n",
       "      <td>True</td>\n",
       "      <td>NaN</td>\n",
       "      <td>0.0</td>\n",
       "      <td>5.0</td>\n",
       "      <td>http://reviews.bestbuy.com/3545/5620406/review...</td>\n",
       "      <td>This product so far has not disappointed. My c...</td>\n",
       "      <td>Kindle</td>\n",
       "      <td>NaN</td>\n",
       "      <td>NaN</td>\n",
       "      <td>Adapter</td>\n",
       "    </tr>\n",
       "    <tr>\n",
       "      <th>1</th>\n",
       "      <td>AVqkIhwDv8e3D1O-lebb</td>\n",
       "      <td>All-New Fire HD 8 Tablet, 8 HD Display, Wi-Fi,...</td>\n",
       "      <td>B01AHB9CN2</td>\n",
       "      <td>Amazon</td>\n",
       "      <td>Electronics,iPad &amp; Tablets,All Tablets,Fire Ta...</td>\n",
       "      <td>841667104676,amazon/53004484,amazon/b01ahb9cn2...</td>\n",
       "      <td>Amazon</td>\n",
       "      <td>2017-01-13T00:00:00.000Z</td>\n",
       "      <td>2017-07-03T23:33:15Z</td>\n",
       "      <td>2017-06-07T09:04:00.000Z,2017-04-30T00:45:00.000Z</td>\n",
       "      <td>...</td>\n",
       "      <td>True</td>\n",
       "      <td>NaN</td>\n",
       "      <td>0.0</td>\n",
       "      <td>5.0</td>\n",
       "      <td>http://reviews.bestbuy.com/3545/5620406/review...</td>\n",
       "      <td>great for beginner or experienced person. Boug...</td>\n",
       "      <td>very fast</td>\n",
       "      <td>NaN</td>\n",
       "      <td>NaN</td>\n",
       "      <td>truman</td>\n",
       "    </tr>\n",
       "    <tr>\n",
       "      <th>2</th>\n",
       "      <td>AVqkIhwDv8e3D1O-lebb</td>\n",
       "      <td>All-New Fire HD 8 Tablet, 8 HD Display, Wi-Fi,...</td>\n",
       "      <td>B01AHB9CN2</td>\n",
       "      <td>Amazon</td>\n",
       "      <td>Electronics,iPad &amp; Tablets,All Tablets,Fire Ta...</td>\n",
       "      <td>841667104676,amazon/53004484,amazon/b01ahb9cn2...</td>\n",
       "      <td>Amazon</td>\n",
       "      <td>2017-01-13T00:00:00.000Z</td>\n",
       "      <td>2017-07-03T23:33:15Z</td>\n",
       "      <td>2017-06-07T09:04:00.000Z,2017-04-30T00:45:00.000Z</td>\n",
       "      <td>...</td>\n",
       "      <td>True</td>\n",
       "      <td>NaN</td>\n",
       "      <td>0.0</td>\n",
       "      <td>5.0</td>\n",
       "      <td>http://reviews.bestbuy.com/3545/5620406/review...</td>\n",
       "      <td>Inexpensive tablet for him to use and learn on...</td>\n",
       "      <td>Beginner tablet for our 9 year old son.</td>\n",
       "      <td>NaN</td>\n",
       "      <td>NaN</td>\n",
       "      <td>DaveZ</td>\n",
       "    </tr>\n",
       "    <tr>\n",
       "      <th>3</th>\n",
       "      <td>AVqkIhwDv8e3D1O-lebb</td>\n",
       "      <td>All-New Fire HD 8 Tablet, 8 HD Display, Wi-Fi,...</td>\n",
       "      <td>B01AHB9CN2</td>\n",
       "      <td>Amazon</td>\n",
       "      <td>Electronics,iPad &amp; Tablets,All Tablets,Fire Ta...</td>\n",
       "      <td>841667104676,amazon/53004484,amazon/b01ahb9cn2...</td>\n",
       "      <td>Amazon</td>\n",
       "      <td>2017-01-13T00:00:00.000Z</td>\n",
       "      <td>2017-07-03T23:33:15Z</td>\n",
       "      <td>2017-06-07T09:04:00.000Z,2017-04-30T00:45:00.000Z</td>\n",
       "      <td>...</td>\n",
       "      <td>True</td>\n",
       "      <td>NaN</td>\n",
       "      <td>0.0</td>\n",
       "      <td>4.0</td>\n",
       "      <td>http://reviews.bestbuy.com/3545/5620406/review...</td>\n",
       "      <td>I've had my Fire HD 8 two weeks now and I love...</td>\n",
       "      <td>Good!!!</td>\n",
       "      <td>NaN</td>\n",
       "      <td>NaN</td>\n",
       "      <td>Shacks</td>\n",
       "    </tr>\n",
       "    <tr>\n",
       "      <th>4</th>\n",
       "      <td>AVqkIhwDv8e3D1O-lebb</td>\n",
       "      <td>All-New Fire HD 8 Tablet, 8 HD Display, Wi-Fi,...</td>\n",
       "      <td>B01AHB9CN2</td>\n",
       "      <td>Amazon</td>\n",
       "      <td>Electronics,iPad &amp; Tablets,All Tablets,Fire Ta...</td>\n",
       "      <td>841667104676,amazon/53004484,amazon/b01ahb9cn2...</td>\n",
       "      <td>Amazon</td>\n",
       "      <td>2017-01-12T00:00:00.000Z</td>\n",
       "      <td>2017-07-03T23:33:15Z</td>\n",
       "      <td>2017-06-07T09:04:00.000Z,2017-04-30T00:45:00.000Z</td>\n",
       "      <td>...</td>\n",
       "      <td>True</td>\n",
       "      <td>NaN</td>\n",
       "      <td>0.0</td>\n",
       "      <td>5.0</td>\n",
       "      <td>http://reviews.bestbuy.com/3545/5620406/review...</td>\n",
       "      <td>I bought this for my grand daughter when she c...</td>\n",
       "      <td>Fantastic Tablet for kids</td>\n",
       "      <td>NaN</td>\n",
       "      <td>NaN</td>\n",
       "      <td>explore42</td>\n",
       "    </tr>\n",
       "    <tr>\n",
       "      <th>...</th>\n",
       "      <td>...</td>\n",
       "      <td>...</td>\n",
       "      <td>...</td>\n",
       "      <td>...</td>\n",
       "      <td>...</td>\n",
       "      <td>...</td>\n",
       "      <td>...</td>\n",
       "      <td>...</td>\n",
       "      <td>...</td>\n",
       "      <td>...</td>\n",
       "      <td>...</td>\n",
       "      <td>...</td>\n",
       "      <td>...</td>\n",
       "      <td>...</td>\n",
       "      <td>...</td>\n",
       "      <td>...</td>\n",
       "      <td>...</td>\n",
       "      <td>...</td>\n",
       "      <td>...</td>\n",
       "      <td>...</td>\n",
       "      <td>...</td>\n",
       "    </tr>\n",
       "    <tr>\n",
       "      <th>34655</th>\n",
       "      <td>AVpfiBlyLJeJML43-4Tp</td>\n",
       "      <td>NaN</td>\n",
       "      <td>B006GWO5WK</td>\n",
       "      <td>Amazon</td>\n",
       "      <td>Computers/Tablets &amp; Networking,Tablet &amp; eBook ...</td>\n",
       "      <td>newamazonkindlefirehd9wpowerfastadaptercharger...</td>\n",
       "      <td>Amazon Digital Services, Inc</td>\n",
       "      <td>2012-09-18T00:00:00Z</td>\n",
       "      <td>NaN</td>\n",
       "      <td>2015-08-29T00:00:00Z</td>\n",
       "      <td>...</td>\n",
       "      <td>NaN</td>\n",
       "      <td>NaN</td>\n",
       "      <td>NaN</td>\n",
       "      <td>3.0</td>\n",
       "      <td>http://www.amazon.com/Amazon-PowerFast-Adapter...</td>\n",
       "      <td>This is not appreciably faster than any other ...</td>\n",
       "      <td>Not appreciably faster than any other 1.8A cha...</td>\n",
       "      <td>NaN</td>\n",
       "      <td>NaN</td>\n",
       "      <td>Kris</td>\n",
       "    </tr>\n",
       "    <tr>\n",
       "      <th>34656</th>\n",
       "      <td>AVpfiBlyLJeJML43-4Tp</td>\n",
       "      <td>NaN</td>\n",
       "      <td>B006GWO5WK</td>\n",
       "      <td>Amazon</td>\n",
       "      <td>Computers/Tablets &amp; Networking,Tablet &amp; eBook ...</td>\n",
       "      <td>newamazonkindlefirehd9wpowerfastadaptercharger...</td>\n",
       "      <td>Amazon Digital Services, Inc</td>\n",
       "      <td>2012-11-21T00:00:00Z</td>\n",
       "      <td>NaN</td>\n",
       "      <td>2015-09-02T00:00:00Z</td>\n",
       "      <td>...</td>\n",
       "      <td>NaN</td>\n",
       "      <td>NaN</td>\n",
       "      <td>NaN</td>\n",
       "      <td>1.0</td>\n",
       "      <td>http://www.amazon.com/Amazon-PowerFast-Adapter...</td>\n",
       "      <td>Amazon should include this charger with the Ki...</td>\n",
       "      <td>Should be included</td>\n",
       "      <td>NaN</td>\n",
       "      <td>NaN</td>\n",
       "      <td>Jonathan Stewart</td>\n",
       "    </tr>\n",
       "    <tr>\n",
       "      <th>34657</th>\n",
       "      <td>AVpfiBlyLJeJML43-4Tp</td>\n",
       "      <td>NaN</td>\n",
       "      <td>B006GWO5WK</td>\n",
       "      <td>Amazon</td>\n",
       "      <td>Computers/Tablets &amp; Networking,Tablet &amp; eBook ...</td>\n",
       "      <td>newamazonkindlefirehd9wpowerfastadaptercharger...</td>\n",
       "      <td>Amazon Digital Services, Inc</td>\n",
       "      <td>2012-10-19T00:00:00Z</td>\n",
       "      <td>NaN</td>\n",
       "      <td>2015-09-04T00:00:00Z</td>\n",
       "      <td>...</td>\n",
       "      <td>NaN</td>\n",
       "      <td>NaN</td>\n",
       "      <td>NaN</td>\n",
       "      <td>1.0</td>\n",
       "      <td>http://www.amazon.com/Amazon-PowerFast-Adapter...</td>\n",
       "      <td>Love my Kindle Fire but I am really disappoint...</td>\n",
       "      <td>Disappointing Charger</td>\n",
       "      <td>NaN</td>\n",
       "      <td>NaN</td>\n",
       "      <td>J Lawson</td>\n",
       "    </tr>\n",
       "    <tr>\n",
       "      <th>34658</th>\n",
       "      <td>AVpfiBlyLJeJML43-4Tp</td>\n",
       "      <td>NaN</td>\n",
       "      <td>B006GWO5WK</td>\n",
       "      <td>Amazon</td>\n",
       "      <td>Computers/Tablets &amp; Networking,Tablet &amp; eBook ...</td>\n",
       "      <td>newamazonkindlefirehd9wpowerfastadaptercharger...</td>\n",
       "      <td>Amazon Digital Services, Inc</td>\n",
       "      <td>2012-10-31T00:00:00Z</td>\n",
       "      <td>NaN</td>\n",
       "      <td>2015-09-01T00:00:00Z</td>\n",
       "      <td>...</td>\n",
       "      <td>NaN</td>\n",
       "      <td>NaN</td>\n",
       "      <td>NaN</td>\n",
       "      <td>1.0</td>\n",
       "      <td>http://www.amazon.com/Amazon-PowerFast-Adapter...</td>\n",
       "      <td>I was surprised to find it did not come with a...</td>\n",
       "      <td>Not worth the money</td>\n",
       "      <td>NaN</td>\n",
       "      <td>NaN</td>\n",
       "      <td>Just the Buyer</td>\n",
       "    </tr>\n",
       "    <tr>\n",
       "      <th>34659</th>\n",
       "      <td>AVpfiBlyLJeJML43-4Tp</td>\n",
       "      <td>NaN</td>\n",
       "      <td>B006GWO5WK</td>\n",
       "      <td>Amazon</td>\n",
       "      <td>Computers/Tablets &amp; Networking,Tablet &amp; eBook ...</td>\n",
       "      <td>newamazonkindlefirehd9wpowerfastadaptercharger...</td>\n",
       "      <td>Amazon Digital Services, Inc</td>\n",
       "      <td>2012-12-23T00:00:00Z</td>\n",
       "      <td>NaN</td>\n",
       "      <td>2015-11-01T00:00:00Z</td>\n",
       "      <td>...</td>\n",
       "      <td>NaN</td>\n",
       "      <td>NaN</td>\n",
       "      <td>NaN</td>\n",
       "      <td>1.0</td>\n",
       "      <td>http://www.amazon.com/Amazon-PowerFast-Adapter...</td>\n",
       "      <td>to spite the fact that i have nothing but good...</td>\n",
       "      <td>as with everyone else</td>\n",
       "      <td>NaN</td>\n",
       "      <td>NaN</td>\n",
       "      <td>sandi</td>\n",
       "    </tr>\n",
       "  </tbody>\n",
       "</table>\n",
       "<p>34660 rows × 21 columns</p>\n",
       "</div>"
      ],
      "text/plain": [
       "                         id  \\\n",
       "0      AVqkIhwDv8e3D1O-lebb   \n",
       "1      AVqkIhwDv8e3D1O-lebb   \n",
       "2      AVqkIhwDv8e3D1O-lebb   \n",
       "3      AVqkIhwDv8e3D1O-lebb   \n",
       "4      AVqkIhwDv8e3D1O-lebb   \n",
       "...                     ...   \n",
       "34655  AVpfiBlyLJeJML43-4Tp   \n",
       "34656  AVpfiBlyLJeJML43-4Tp   \n",
       "34657  AVpfiBlyLJeJML43-4Tp   \n",
       "34658  AVpfiBlyLJeJML43-4Tp   \n",
       "34659  AVpfiBlyLJeJML43-4Tp   \n",
       "\n",
       "                                                    name       asins   brand  \\\n",
       "0      All-New Fire HD 8 Tablet, 8 HD Display, Wi-Fi,...  B01AHB9CN2  Amazon   \n",
       "1      All-New Fire HD 8 Tablet, 8 HD Display, Wi-Fi,...  B01AHB9CN2  Amazon   \n",
       "2      All-New Fire HD 8 Tablet, 8 HD Display, Wi-Fi,...  B01AHB9CN2  Amazon   \n",
       "3      All-New Fire HD 8 Tablet, 8 HD Display, Wi-Fi,...  B01AHB9CN2  Amazon   \n",
       "4      All-New Fire HD 8 Tablet, 8 HD Display, Wi-Fi,...  B01AHB9CN2  Amazon   \n",
       "...                                                  ...         ...     ...   \n",
       "34655                                                NaN  B006GWO5WK  Amazon   \n",
       "34656                                                NaN  B006GWO5WK  Amazon   \n",
       "34657                                                NaN  B006GWO5WK  Amazon   \n",
       "34658                                                NaN  B006GWO5WK  Amazon   \n",
       "34659                                                NaN  B006GWO5WK  Amazon   \n",
       "\n",
       "                                              categories  \\\n",
       "0      Electronics,iPad & Tablets,All Tablets,Fire Ta...   \n",
       "1      Electronics,iPad & Tablets,All Tablets,Fire Ta...   \n",
       "2      Electronics,iPad & Tablets,All Tablets,Fire Ta...   \n",
       "3      Electronics,iPad & Tablets,All Tablets,Fire Ta...   \n",
       "4      Electronics,iPad & Tablets,All Tablets,Fire Ta...   \n",
       "...                                                  ...   \n",
       "34655  Computers/Tablets & Networking,Tablet & eBook ...   \n",
       "34656  Computers/Tablets & Networking,Tablet & eBook ...   \n",
       "34657  Computers/Tablets & Networking,Tablet & eBook ...   \n",
       "34658  Computers/Tablets & Networking,Tablet & eBook ...   \n",
       "34659  Computers/Tablets & Networking,Tablet & eBook ...   \n",
       "\n",
       "                                                    keys  \\\n",
       "0      841667104676,amazon/53004484,amazon/b01ahb9cn2...   \n",
       "1      841667104676,amazon/53004484,amazon/b01ahb9cn2...   \n",
       "2      841667104676,amazon/53004484,amazon/b01ahb9cn2...   \n",
       "3      841667104676,amazon/53004484,amazon/b01ahb9cn2...   \n",
       "4      841667104676,amazon/53004484,amazon/b01ahb9cn2...   \n",
       "...                                                  ...   \n",
       "34655  newamazonkindlefirehd9wpowerfastadaptercharger...   \n",
       "34656  newamazonkindlefirehd9wpowerfastadaptercharger...   \n",
       "34657  newamazonkindlefirehd9wpowerfastadaptercharger...   \n",
       "34658  newamazonkindlefirehd9wpowerfastadaptercharger...   \n",
       "34659  newamazonkindlefirehd9wpowerfastadaptercharger...   \n",
       "\n",
       "                       manufacturer              reviews.date  \\\n",
       "0                            Amazon  2017-01-13T00:00:00.000Z   \n",
       "1                            Amazon  2017-01-13T00:00:00.000Z   \n",
       "2                            Amazon  2017-01-13T00:00:00.000Z   \n",
       "3                            Amazon  2017-01-13T00:00:00.000Z   \n",
       "4                            Amazon  2017-01-12T00:00:00.000Z   \n",
       "...                             ...                       ...   \n",
       "34655  Amazon Digital Services, Inc      2012-09-18T00:00:00Z   \n",
       "34656  Amazon Digital Services, Inc      2012-11-21T00:00:00Z   \n",
       "34657  Amazon Digital Services, Inc      2012-10-19T00:00:00Z   \n",
       "34658  Amazon Digital Services, Inc      2012-10-31T00:00:00Z   \n",
       "34659  Amazon Digital Services, Inc      2012-12-23T00:00:00Z   \n",
       "\n",
       "          reviews.dateAdded  \\\n",
       "0      2017-07-03T23:33:15Z   \n",
       "1      2017-07-03T23:33:15Z   \n",
       "2      2017-07-03T23:33:15Z   \n",
       "3      2017-07-03T23:33:15Z   \n",
       "4      2017-07-03T23:33:15Z   \n",
       "...                     ...   \n",
       "34655                   NaN   \n",
       "34656                   NaN   \n",
       "34657                   NaN   \n",
       "34658                   NaN   \n",
       "34659                   NaN   \n",
       "\n",
       "                                        reviews.dateSeen  ...  \\\n",
       "0      2017-06-07T09:04:00.000Z,2017-04-30T00:45:00.000Z  ...   \n",
       "1      2017-06-07T09:04:00.000Z,2017-04-30T00:45:00.000Z  ...   \n",
       "2      2017-06-07T09:04:00.000Z,2017-04-30T00:45:00.000Z  ...   \n",
       "3      2017-06-07T09:04:00.000Z,2017-04-30T00:45:00.000Z  ...   \n",
       "4      2017-06-07T09:04:00.000Z,2017-04-30T00:45:00.000Z  ...   \n",
       "...                                                  ...  ...   \n",
       "34655                               2015-08-29T00:00:00Z  ...   \n",
       "34656                               2015-09-02T00:00:00Z  ...   \n",
       "34657                               2015-09-04T00:00:00Z  ...   \n",
       "34658                               2015-09-01T00:00:00Z  ...   \n",
       "34659                               2015-11-01T00:00:00Z  ...   \n",
       "\n",
       "      reviews.doRecommend reviews.id  reviews.numHelpful  reviews.rating  \\\n",
       "0                    True        NaN                 0.0             5.0   \n",
       "1                    True        NaN                 0.0             5.0   \n",
       "2                    True        NaN                 0.0             5.0   \n",
       "3                    True        NaN                 0.0             4.0   \n",
       "4                    True        NaN                 0.0             5.0   \n",
       "...                   ...        ...                 ...             ...   \n",
       "34655                 NaN        NaN                 NaN             3.0   \n",
       "34656                 NaN        NaN                 NaN             1.0   \n",
       "34657                 NaN        NaN                 NaN             1.0   \n",
       "34658                 NaN        NaN                 NaN             1.0   \n",
       "34659                 NaN        NaN                 NaN             1.0   \n",
       "\n",
       "                                      reviews.sourceURLs  \\\n",
       "0      http://reviews.bestbuy.com/3545/5620406/review...   \n",
       "1      http://reviews.bestbuy.com/3545/5620406/review...   \n",
       "2      http://reviews.bestbuy.com/3545/5620406/review...   \n",
       "3      http://reviews.bestbuy.com/3545/5620406/review...   \n",
       "4      http://reviews.bestbuy.com/3545/5620406/review...   \n",
       "...                                                  ...   \n",
       "34655  http://www.amazon.com/Amazon-PowerFast-Adapter...   \n",
       "34656  http://www.amazon.com/Amazon-PowerFast-Adapter...   \n",
       "34657  http://www.amazon.com/Amazon-PowerFast-Adapter...   \n",
       "34658  http://www.amazon.com/Amazon-PowerFast-Adapter...   \n",
       "34659  http://www.amazon.com/Amazon-PowerFast-Adapter...   \n",
       "\n",
       "                                            reviews.text  \\\n",
       "0      This product so far has not disappointed. My c...   \n",
       "1      great for beginner or experienced person. Boug...   \n",
       "2      Inexpensive tablet for him to use and learn on...   \n",
       "3      I've had my Fire HD 8 two weeks now and I love...   \n",
       "4      I bought this for my grand daughter when she c...   \n",
       "...                                                  ...   \n",
       "34655  This is not appreciably faster than any other ...   \n",
       "34656  Amazon should include this charger with the Ki...   \n",
       "34657  Love my Kindle Fire but I am really disappoint...   \n",
       "34658  I was surprised to find it did not come with a...   \n",
       "34659  to spite the fact that i have nothing but good...   \n",
       "\n",
       "                                           reviews.title reviews.userCity  \\\n",
       "0                                                 Kindle              NaN   \n",
       "1                                              very fast              NaN   \n",
       "2                Beginner tablet for our 9 year old son.              NaN   \n",
       "3                                                Good!!!              NaN   \n",
       "4                              Fantastic Tablet for kids              NaN   \n",
       "...                                                  ...              ...   \n",
       "34655  Not appreciably faster than any other 1.8A cha...              NaN   \n",
       "34656                                 Should be included              NaN   \n",
       "34657                              Disappointing Charger              NaN   \n",
       "34658                                Not worth the money              NaN   \n",
       "34659                              as with everyone else              NaN   \n",
       "\n",
       "       reviews.userProvince  reviews.username  \n",
       "0                       NaN           Adapter  \n",
       "1                       NaN            truman  \n",
       "2                       NaN             DaveZ  \n",
       "3                       NaN            Shacks  \n",
       "4                       NaN         explore42  \n",
       "...                     ...               ...  \n",
       "34655                   NaN              Kris  \n",
       "34656                   NaN  Jonathan Stewart  \n",
       "34657                   NaN          J Lawson  \n",
       "34658                   NaN    Just the Buyer  \n",
       "34659                   NaN             sandi  \n",
       "\n",
       "[34660 rows x 21 columns]"
      ]
     },
     "execution_count": 3,
     "metadata": {},
     "output_type": "execute_result"
    }
   ],
   "source": [
    "data"
   ]
  },
  {
   "cell_type": "code",
   "execution_count": 4,
   "metadata": {},
   "outputs": [],
   "source": [
    "data[\"reviews.rating\"].replace(1.0, value = \"negatif\", inplace = True)\n",
    "data[\"reviews.rating\"].replace(2.0, value = \"negatif\", inplace = True)\n",
    "data[\"reviews.rating\"].replace(4.0, value = \"pozitif\", inplace = True)\n",
    "data[\"reviews.rating\"].replace(5.0, value = \"pozitif\", inplace = True)\n",
    "data = data[(data['reviews.rating'] == \"negatif\") | (data['reviews.rating'] == \"pozitif\")] "
   ]
  },
  {
   "cell_type": "code",
   "execution_count": 5,
   "metadata": {},
   "outputs": [],
   "source": [
    "df = pd.DataFrame()\n",
    "df[\"comment\"] = data[\"reviews.text\"]\n",
    "df[\"sentiment\"] = data[\"reviews.rating\"]"
   ]
  },
  {
   "cell_type": "code",
   "execution_count": 6,
   "metadata": {},
   "outputs": [],
   "source": [
    "#buyuk-kucuk donusumu\n",
    "df['comment'] = df['comment'].apply(lambda x: \" \".join(x.lower() for x in str(x).split()))"
   ]
  },
  {
   "cell_type": "code",
   "execution_count": 7,
   "metadata": {},
   "outputs": [],
   "source": [
    "#noktalama işaretleri\n",
    "df['comment'] = df['comment'].str.replace('[^\\w\\s]','')"
   ]
  },
  {
   "cell_type": "code",
   "execution_count": 8,
   "metadata": {},
   "outputs": [],
   "source": [
    "#sayılar\n",
    "df['comment'] = df['comment'].str.replace('\\d','')"
   ]
  },
  {
   "cell_type": "code",
   "execution_count": 9,
   "metadata": {},
   "outputs": [],
   "source": [
    "#stopwords\n",
    "import nltk\n",
    "#nltk.download('stopwords')\n",
    "from nltk.corpus import stopwords\n",
    "sw = stopwords.words('english')\n",
    "df['comment'] = df['comment'].apply(lambda x: \" \".join(x for x in x.split() if x not in sw))"
   ]
  },
  {
   "cell_type": "code",
   "execution_count": 10,
   "metadata": {},
   "outputs": [],
   "source": [
    "#seyreklerin silinmesi\n",
    "sil = pd.Series(' '.join(df['comment']).split()).value_counts()[-5000:]\n",
    "df['comment'] = df['comment'].apply(lambda x: \" \".join(x for x in x.split() if x not in sil))"
   ]
  },
  {
   "cell_type": "code",
   "execution_count": 11,
   "metadata": {},
   "outputs": [],
   "source": [
    "#lemmi\n",
    "from textblob import Word\n",
    "#nltk.download('wordnet')\n",
    "df['comment'] = df['comment'].apply(lambda x: \" \".join([Word(word).lemmatize() for word in x.split()])) \n"
   ]
  },
  {
   "cell_type": "code",
   "execution_count": 12,
   "metadata": {},
   "outputs": [],
   "source": [
    "train_x, test_x, train_y, test_y = model_selection.train_test_split(df[\"comment\"],\n",
    "                                                                   df[\"sentiment\"], \n",
    "                                                                    random_state = 1)\n",
    "encoder = preprocessing.LabelEncoder()\n",
    "train_y = encoder.fit_transform(train_y)\n",
    "test_y = encoder.fit_transform(test_y)"
   ]
  },
  {
   "cell_type": "markdown",
   "metadata": {},
   "source": [
    "# özellik çıkarımı yöntemleri "
   ]
  },
  {
   "cell_type": "code",
   "execution_count": 13,
   "metadata": {},
   "outputs": [],
   "source": [
    "# count vektor\n",
    "vectorizer = CountVectorizer() #ilk başta oluşturduğumuz train_x'i bozmamak için yeni vectorizer oluşturduk.\n",
    "vectorizer.fit(train_x)\n",
    "x_train_count = vectorizer.transform(train_x)\n",
    "x_test_count = vectorizer.transform(test_x)"
   ]
  },
  {
   "cell_type": "code",
   "execution_count": 14,
   "metadata": {},
   "outputs": [],
   "source": [
    "# tf-idf \n",
    "tf_idf_word_vectorizer = TfidfVectorizer() #ilk başta oluşturduğumuz train_x'i bozmamak için yeni vectorizer oluşturduk.\n",
    "tf_idf_word_vectorizer.fit(train_x)\n",
    "x_train_tf_idf_word = tf_idf_word_vectorizer.transform(train_x)\n",
    "x_test_tf_idf_word = tf_idf_word_vectorizer.transform(test_x)"
   ]
  },
  {
   "cell_type": "code",
   "execution_count": 15,
   "metadata": {},
   "outputs": [],
   "source": [
    "# ngram level tf-idf\n",
    "tf_idf_ngram_vectorizer = TfidfVectorizer(ngram_range = (2,3))\n",
    "tf_idf_ngram_vectorizer.fit(train_x)\n",
    "x_train_tf_idf_ngram = tf_idf_ngram_vectorizer.transform(train_x)\n",
    "x_test_tf_idf_ngram = tf_idf_ngram_vectorizer.transform(test_x)"
   ]
  },
  {
   "cell_type": "code",
   "execution_count": 16,
   "metadata": {},
   "outputs": [],
   "source": [
    "# character level tf-idf\n",
    "tf_idf_chars_vectorizer = TfidfVectorizer(analyzer = \"char\", ngram_range = (2,3))\n",
    "tf_idf_chars_vectorizer.fit(train_x)\n",
    "x_train_tf_idf_chars = tf_idf_chars_vectorizer.transform(train_x)\n",
    "x_test_tf_idf_chars = tf_idf_chars_vectorizer.transform(test_x)"
   ]
  },
  {
   "cell_type": "markdown",
   "metadata": {},
   "source": [
    "# makine öğrenmesi sınıflandırma algoritmaları"
   ]
  },
  {
   "cell_type": "markdown",
   "metadata": {},
   "source": [
    "# logistic reggression"
   ]
  },
  {
   "cell_type": "code",
   "execution_count": 17,
   "metadata": {},
   "outputs": [
    {
     "name": "stdout",
     "output_type": "stream",
     "text": [
      "Count Vectors Doğruluk Oranı: 0.9792322978036514\n",
      "Count Vectors Recall: 0.9975301011765783\n",
      "Count Vectors Precision: 0.9815360005844637\n",
      "Count Vectors F1 Score: 0.6245093243872923\n"
     ]
    }
   ],
   "source": [
    "loj = linear_model.LogisticRegression()\n",
    "loj_model = loj.fit(x_train_count, train_y)\n",
    "\n",
    "accuracy = model_selection.cross_val_score(loj_model, x_test_count, test_y, cv = 10).mean()\n",
    "recall = model_selection.cross_val_score(loj_model, x_test_count, test_y, cv=10, scoring='recall').mean()\n",
    "precision = model_selection.cross_val_score(loj_model, x_test_count, test_y, cv=10, scoring='precision').mean()\n",
    "f1_score =  model_selection.cross_val_score(loj_model, x_test_count, test_y, cv=10, scoring='f1_macro').mean()\n",
    "\n",
    "print(\"Count Vectors Doğruluk Oranı:\", accuracy)\n",
    "print(\"Count Vectors Recall:\", recall)\n",
    "print(\"Count Vectors Precision:\", precision)\n",
    "print(\"Count Vectors F1 Score:\", f1_score)"
   ]
  },
  {
   "cell_type": "code",
   "execution_count": 18,
   "metadata": {},
   "outputs": [
    {
     "name": "stdout",
     "output_type": "stream",
     "text": [
      "Word-Level TF-IDF Doğruluk Oranı: 0.9777833138115302\n",
      "Word-Level TF-IDF Recall: 1.0\n",
      "Word-Level TF-IDF Precision: 0.9777833138115302\n",
      "Word-Level TF-IDF F1 Score: 0.4943833935187409\n"
     ]
    }
   ],
   "source": [
    "loj1 = linear_model.LogisticRegression()\n",
    "loj_model1 = loj1.fit(x_train_tf_idf_word,train_y)\n",
    "\n",
    "accuracy1 = model_selection.cross_val_score(loj_model1, x_test_tf_idf_word, test_y, cv = 10).mean()\n",
    "recall1 = model_selection.cross_val_score(loj_model1, x_test_tf_idf_word, test_y, cv=10, scoring='recall').mean()\n",
    "precision1 = model_selection.cross_val_score(loj_model1, x_test_tf_idf_word, test_y, cv=10, scoring='precision').mean()\n",
    "f1_score1 =  model_selection.cross_val_score(loj_model1, x_test_tf_idf_word, test_y, cv=10, scoring='f1_macro').mean()\n",
    "\n",
    "print(\"Word-Level TF-IDF Doğruluk Oranı:\", accuracy1)\n",
    "print(\"Word-Level TF-IDF Recall:\", recall1)\n",
    "print(\"Word-Level TF-IDF Precision:\", precision1)\n",
    "print(\"Word-Level TF-IDF F1 Score:\", f1_score1)"
   ]
  },
  {
   "cell_type": "code",
   "execution_count": 19,
   "metadata": {},
   "outputs": [
    {
     "name": "stdout",
     "output_type": "stream",
     "text": [
      "N-GRAM TF-IDF Doğruluk Oranı: 0.9777833138115302\n",
      "N-GRAM TF-IDF Recall: 1.0\n",
      "N-GRAM TF-IDF Precision: 0.9777833138115302\n",
      "N-GRAM TF-IDF F1 Score: 0.4943833935187409\n"
     ]
    }
   ],
   "source": [
    "loj2 = linear_model.LogisticRegression()\n",
    "loj_model2 = loj2.fit(x_train_tf_idf_ngram,train_y)\n",
    "\n",
    "accuracy2 = model_selection.cross_val_score(loj_model2, x_test_tf_idf_ngram, test_y, cv = 10).mean()\n",
    "recall2 = model_selection.cross_val_score(loj_model2, x_test_tf_idf_ngram, test_y, cv=10, scoring='recall').mean()\n",
    "precision2 = model_selection.cross_val_score(loj_model2, x_test_tf_idf_ngram, test_y, cv=10, scoring='precision').mean()\n",
    "f1_score2 =  model_selection.cross_val_score(loj_model2, x_test_tf_idf_ngram, test_y, cv=10, scoring='f1_macro').mean()\n",
    "\n",
    "print(\"N-GRAM TF-IDF Doğruluk Oranı:\", accuracy2)\n",
    "print(\"N-GRAM TF-IDF Recall:\", recall2)\n",
    "print(\"N-GRAM TF-IDF Precision:\", precision2)\n",
    "print(\"N-GRAM TF-IDF F1 Score:\", f1_score2)"
   ]
  },
  {
   "cell_type": "code",
   "execution_count": 20,
   "metadata": {},
   "outputs": [
    {
     "name": "stdout",
     "output_type": "stream",
     "text": [
      "CHARLEVEL TF-IDF Doğruluk Oranı: 0.97790408675839\n",
      "CHARLEVEL TF-IDF Recall: 1.0\n",
      "CHARLEVEL TF-IDF Precision: 0.9779016041222393\n",
      "CHARLEVEL TF-IDF F1 Score: 0.49967675944612927\n"
     ]
    }
   ],
   "source": [
    "loj3 = linear_model.LogisticRegression()\n",
    "loj_model3 = loj3.fit(x_train_tf_idf_chars,train_y)\n",
    "\n",
    "accuracy3 = model_selection.cross_val_score(loj_model3, x_test_tf_idf_chars, test_y, cv = 10).mean()\n",
    "recall3 = model_selection.cross_val_score(loj_model3, x_test_tf_idf_chars, test_y, cv=10, scoring='recall').mean()\n",
    "precision3 = model_selection.cross_val_score(loj_model3, x_test_tf_idf_chars, test_y, cv=10, scoring='precision').mean()\n",
    "f1_score3 =  model_selection.cross_val_score(loj_model3, x_test_tf_idf_chars, test_y, cv=10, scoring='f1_macro').mean()\n",
    "\n",
    "print(\"CHARLEVEL TF-IDF Doğruluk Oranı:\", accuracy3)\n",
    "print(\"CHARLEVEL TF-IDF Recall:\", recall3)\n",
    "print(\"CHARLEVEL TF-IDF Precision:\", precision3)\n",
    "print(\"CHARLEVEL TF-IDF F1 Score:\", f1_score3)"
   ]
  },
  {
   "cell_type": "markdown",
   "metadata": {},
   "source": [
    "# naive bayes"
   ]
  },
  {
   "cell_type": "code",
   "execution_count": 21,
   "metadata": {},
   "outputs": [
    {
     "name": "stdout",
     "output_type": "stream",
     "text": [
      "Count Vectors Doğruluk Oranı: 0.9777833138115302\n",
      "Count Vectors Recall: 0.9997529338155624\n",
      "Count Vectors Precision: 0.9780147774656024\n",
      "Count Vectors F1 Score: 0.5043820501188645\n"
     ]
    }
   ],
   "source": [
    "nb = naive_bayes.MultinomialNB()\n",
    "nb_model = nb.fit(x_train_count,train_y)\n",
    "\n",
    "accuracy4 = model_selection.cross_val_score(nb_model, x_test_count, test_y, cv = 10).mean()\n",
    "recall4 = model_selection.cross_val_score(nb_model, x_test_count, test_y, cv=10, scoring='recall').mean()\n",
    "precision4 = model_selection.cross_val_score(nb_model, x_test_count, test_y, cv=10, scoring='precision').mean()\n",
    "f1_score4 =  model_selection.cross_val_score(nb_model, x_test_count, test_y, cv=10, scoring='f1_macro').mean()\n",
    "\n",
    "print(\"Count Vectors Doğruluk Oranı:\", accuracy4)\n",
    "print(\"Count Vectors Recall:\", recall4)\n",
    "print(\"Count Vectors Precision:\", precision4)\n",
    "print(\"Count Vectors F1 Score:\", f1_score4)"
   ]
  },
  {
   "cell_type": "code",
   "execution_count": 22,
   "metadata": {},
   "outputs": [
    {
     "name": "stdout",
     "output_type": "stream",
     "text": [
      "Word-Level TF-IDF Doğruluk Oranı: 0.9777833138115302\n",
      "Word-Level TF-IDF Recall: 1.0\n",
      "Word-Level TF-IDF Precision: 0.9777833138115302\n",
      "Word-Level TF-IDF F1 Score: 0.4943833935187409\n"
     ]
    }
   ],
   "source": [
    "nb1 = naive_bayes.MultinomialNB()\n",
    "nb_model1 = nb1.fit(x_train_tf_idf_word,train_y)\n",
    "\n",
    "accuracy5 = model_selection.cross_val_score(nb_model1, x_test_tf_idf_word, test_y, cv = 10).mean()\n",
    "recall5 = model_selection.cross_val_score(nb_model1, x_test_tf_idf_word, test_y, cv=10, scoring='recall').mean()\n",
    "precision5 = model_selection.cross_val_score(nb_model1, x_test_tf_idf_word, test_y, cv=10, scoring='precision').mean()\n",
    "f1_score5 =  model_selection.cross_val_score(nb_model1, x_test_tf_idf_word, test_y, cv=10, scoring='f1_macro').mean()\n",
    "\n",
    "print(\"Word-Level TF-IDF Doğruluk Oranı:\", accuracy5)\n",
    "print(\"Word-Level TF-IDF Recall:\", recall5)\n",
    "print(\"Word-Level TF-IDF Precision:\", precision5)\n",
    "print(\"Word-Level TF-IDF F1 Score:\", f1_score5)"
   ]
  },
  {
   "cell_type": "code",
   "execution_count": 23,
   "metadata": {},
   "outputs": [
    {
     "name": "stdout",
     "output_type": "stream",
     "text": [
      "N-GRAM TF-IDF Doğruluk Oranı: 0.9777833138115302\n",
      "N-GRAM TF-IDF Recall: 1.0\n",
      "N-GRAM TF-IDF Precision: 0.9777833138115302\n",
      "N-GRAM TF-IDF F1 Score: 0.4943833935187409\n"
     ]
    }
   ],
   "source": [
    "nb2 = naive_bayes.MultinomialNB()\n",
    "nb_model2 = nb2.fit(x_train_tf_idf_ngram,train_y)\n",
    "\n",
    "accuracy6 = model_selection.cross_val_score(nb_model2, x_test_tf_idf_ngram, test_y, cv = 10).mean()\n",
    "recall6 = model_selection.cross_val_score(nb_model2, x_test_tf_idf_ngram, test_y, cv=10, scoring='recall').mean()\n",
    "precision6 = model_selection.cross_val_score(nb_model2, x_test_tf_idf_ngram, test_y, cv=10, scoring='precision').mean()\n",
    "f1_score6 =  model_selection.cross_val_score(nb_model2, x_test_tf_idf_ngram, test_y, cv=10, scoring='f1_macro').mean()\n",
    "\n",
    "print(\"N-GRAM TF-IDF Doğruluk Oranı:\", accuracy6)\n",
    "print(\"N-GRAM TF-IDF Recall:\", recall6)\n",
    "print(\"N-GRAM TF-IDF Precision:\", precision6)\n",
    "print(\"N-GRAM TF-IDF F1 Score:\", f1_score6)"
   ]
  },
  {
   "cell_type": "code",
   "execution_count": 24,
   "metadata": {},
   "outputs": [
    {
     "name": "stdout",
     "output_type": "stream",
     "text": [
      "CHARLEVEL TF-IDF Doğruluk Oranı: 0.9777833138115302\n",
      "CHARLEVEL TF-IDF Recall: 1.0\n",
      "CHARLEVEL TF-IDF Precision: 0.9777833138115302\n",
      "CHARLEVEL TF-IDF F1 Score: 0.4943833935187409\n"
     ]
    }
   ],
   "source": [
    "nb3 = naive_bayes.MultinomialNB()\n",
    "nb_model3 = nb3.fit(x_train_tf_idf_chars,train_y)\n",
    "\n",
    "accuracy7 = model_selection.cross_val_score(nb_model3, x_test_tf_idf_chars, test_y, cv = 10).mean()\n",
    "recall7 = model_selection.cross_val_score(nb_model3, x_test_tf_idf_chars, test_y, cv=10, scoring='recall').mean()\n",
    "precision7 = model_selection.cross_val_score(nb_model3, x_test_tf_idf_chars, test_y, cv=10, scoring='precision').mean()\n",
    "f1_score7 =  model_selection.cross_val_score(nb_model3, x_test_tf_idf_chars, test_y, cv=10, scoring='f1_macro').mean()\n",
    "\n",
    "print(\"CHARLEVEL TF-IDF Doğruluk Oranı:\", accuracy7)\n",
    "print(\"CHARLEVEL TF-IDF Recall:\", recall7)\n",
    "print(\"CHARLEVEL TF-IDF Precision:\", precision7)\n",
    "print(\"CHARLEVEL TF-IDF F1 Score:\", f1_score7)"
   ]
  },
  {
   "cell_type": "markdown",
   "metadata": {},
   "source": [
    "# random forest"
   ]
  },
  {
   "cell_type": "code",
   "execution_count": 25,
   "metadata": {},
   "outputs": [
    {
     "name": "stdout",
     "output_type": "stream",
     "text": [
      "Count Vectors Doğruluk Oranı: 0.9776625408646702\n",
      "Count Vectors Recall: 0.9998765432098764\n",
      "Count Vectors Precision: 0.9777806851379587\n",
      "Count Vectors F1 Score: 0.49435251419647497\n"
     ]
    }
   ],
   "source": [
    "rf = ensemble.RandomForestClassifier()\n",
    "rf_model = rf.fit(x_train_count,train_y)\n",
    "\n",
    "accuracy8 = model_selection.cross_val_score(rf_model, x_test_count, test_y, cv = 10).mean()\n",
    "recall8 = model_selection.cross_val_score(rf_model, x_test_count, test_y, cv=10, scoring='recall').mean()\n",
    "precision8 = model_selection.cross_val_score(rf_model, x_test_count, test_y, cv=10, scoring='precision').mean()\n",
    "f1_score8 =  model_selection.cross_val_score(rf_model, x_test_count, test_y, cv=10, scoring='f1_macro').mean()\n",
    "\n",
    "print(\"Count Vectors Doğruluk Oranı:\", accuracy8)\n",
    "print(\"Count Vectors Recall:\", recall8)\n",
    "print(\"Count Vectors Precision:\", precision8)\n",
    "print(\"Count Vectors F1 Score:\", f1_score8)"
   ]
  },
  {
   "cell_type": "code",
   "execution_count": 26,
   "metadata": {},
   "outputs": [
    {
     "name": "stdout",
     "output_type": "stream",
     "text": [
      "Word-Level TF-IDF Doğruluk Oranı: 0.9775417679178103\n",
      "Word-Level TF-IDF Recall: 0.9998765432098764\n",
      "Word-Level TF-IDF Precision: 0.9780172657593772\n",
      "Word-Level TF-IDF F1 Score: 0.4993827218188027\n"
     ]
    }
   ],
   "source": [
    "rf1 = ensemble.RandomForestClassifier()\n",
    "rf_model1 = rf1.fit(x_train_tf_idf_word,train_y)\n",
    "\n",
    "accuracy9 = model_selection.cross_val_score(rf_model1, x_test_tf_idf_word, test_y, cv = 10).mean()\n",
    "recall9 = model_selection.cross_val_score(rf_model1, x_test_tf_idf_word, test_y, cv=10, scoring='recall').mean()\n",
    "precision9 = model_selection.cross_val_score(rf_model1, x_test_tf_idf_word, test_y, cv=10, scoring='precision').mean()\n",
    "f1_score9 =  model_selection.cross_val_score(rf_model1, x_test_tf_idf_word, test_y, cv=10, scoring='f1_macro').mean()\n",
    "\n",
    "print(\"Word-Level TF-IDF Doğruluk Oranı:\", accuracy9)\n",
    "print(\"Word-Level TF-IDF Recall:\", recall9)\n",
    "print(\"Word-Level TF-IDF Precision:\", precision9)\n",
    "print(\"Word-Level TF-IDF F1 Score:\", f1_score9)"
   ]
  },
  {
   "cell_type": "code",
   "execution_count": 28,
   "metadata": {
    "collapsed": true
   },
   "outputs": [
    {
     "ename": "KeyboardInterrupt",
     "evalue": "",
     "output_type": "error",
     "traceback": [
      "\u001b[1;31m---------------------------------------------------------------------------\u001b[0m",
      "\u001b[1;31mKeyboardInterrupt\u001b[0m                         Traceback (most recent call last)",
      "\u001b[1;32m<ipython-input-28-e971883b96ef>\u001b[0m in \u001b[0;36m<module>\u001b[1;34m\u001b[0m\n\u001b[0;32m      1\u001b[0m \u001b[0mrf2\u001b[0m \u001b[1;33m=\u001b[0m \u001b[0mensemble\u001b[0m\u001b[1;33m.\u001b[0m\u001b[0mRandomForestClassifier\u001b[0m\u001b[1;33m(\u001b[0m\u001b[1;33m)\u001b[0m\u001b[1;33m\u001b[0m\u001b[1;33m\u001b[0m\u001b[0m\n\u001b[1;32m----> 2\u001b[1;33m \u001b[0mrf_model2\u001b[0m \u001b[1;33m=\u001b[0m \u001b[0mrf2\u001b[0m\u001b[1;33m.\u001b[0m\u001b[0mfit\u001b[0m\u001b[1;33m(\u001b[0m\u001b[0mx_train_tf_idf_ngram\u001b[0m\u001b[1;33m,\u001b[0m\u001b[0mtrain_y\u001b[0m\u001b[1;33m)\u001b[0m\u001b[1;33m\u001b[0m\u001b[1;33m\u001b[0m\u001b[0m\n\u001b[0m\u001b[0;32m      3\u001b[0m \u001b[1;33m\u001b[0m\u001b[0m\n\u001b[0;32m      4\u001b[0m \u001b[0maccuracy10\u001b[0m \u001b[1;33m=\u001b[0m \u001b[0mmodel_selection\u001b[0m\u001b[1;33m.\u001b[0m\u001b[0mcross_val_score\u001b[0m\u001b[1;33m(\u001b[0m\u001b[0mrf_model2\u001b[0m\u001b[1;33m,\u001b[0m \u001b[0mx_test_tf_idf_ngram\u001b[0m\u001b[1;33m,\u001b[0m \u001b[0mtest_y\u001b[0m\u001b[1;33m,\u001b[0m \u001b[0mcv\u001b[0m \u001b[1;33m=\u001b[0m \u001b[1;36m10\u001b[0m\u001b[1;33m)\u001b[0m\u001b[1;33m.\u001b[0m\u001b[0mmean\u001b[0m\u001b[1;33m(\u001b[0m\u001b[1;33m)\u001b[0m\u001b[1;33m\u001b[0m\u001b[1;33m\u001b[0m\u001b[0m\n\u001b[0;32m      5\u001b[0m \u001b[0mrecall10\u001b[0m \u001b[1;33m=\u001b[0m \u001b[0mmodel_selection\u001b[0m\u001b[1;33m.\u001b[0m\u001b[0mcross_val_score\u001b[0m\u001b[1;33m(\u001b[0m\u001b[0mrf_model2\u001b[0m\u001b[1;33m,\u001b[0m \u001b[0mx_test_tf_idf_ngram\u001b[0m\u001b[1;33m,\u001b[0m \u001b[0mtest_y\u001b[0m\u001b[1;33m,\u001b[0m \u001b[0mcv\u001b[0m\u001b[1;33m=\u001b[0m\u001b[1;36m10\u001b[0m\u001b[1;33m,\u001b[0m \u001b[0mscoring\u001b[0m\u001b[1;33m=\u001b[0m\u001b[1;34m'recall'\u001b[0m\u001b[1;33m)\u001b[0m\u001b[1;33m.\u001b[0m\u001b[0mmean\u001b[0m\u001b[1;33m(\u001b[0m\u001b[1;33m)\u001b[0m\u001b[1;33m\u001b[0m\u001b[1;33m\u001b[0m\u001b[0m\n",
      "\u001b[1;32m~\\miniconda3\\envs\\tfp\\lib\\site-packages\\sklearn\\ensemble\\_forest.py\u001b[0m in \u001b[0;36mfit\u001b[1;34m(self, X, y, sample_weight)\u001b[0m\n\u001b[0;32m    381\u001b[0m                     \u001b[0mverbose\u001b[0m\u001b[1;33m=\u001b[0m\u001b[0mself\u001b[0m\u001b[1;33m.\u001b[0m\u001b[0mverbose\u001b[0m\u001b[1;33m,\u001b[0m \u001b[0mclass_weight\u001b[0m\u001b[1;33m=\u001b[0m\u001b[0mself\u001b[0m\u001b[1;33m.\u001b[0m\u001b[0mclass_weight\u001b[0m\u001b[1;33m,\u001b[0m\u001b[1;33m\u001b[0m\u001b[1;33m\u001b[0m\u001b[0m\n\u001b[0;32m    382\u001b[0m                     n_samples_bootstrap=n_samples_bootstrap)\n\u001b[1;32m--> 383\u001b[1;33m                 for i, t in enumerate(trees))\n\u001b[0m\u001b[0;32m    384\u001b[0m \u001b[1;33m\u001b[0m\u001b[0m\n\u001b[0;32m    385\u001b[0m             \u001b[1;31m# Collect newly grown trees\u001b[0m\u001b[1;33m\u001b[0m\u001b[1;33m\u001b[0m\u001b[1;33m\u001b[0m\u001b[0m\n",
      "\u001b[1;32m~\\miniconda3\\envs\\tfp\\lib\\site-packages\\joblib\\parallel.py\u001b[0m in \u001b[0;36m__call__\u001b[1;34m(self, iterable)\u001b[0m\n\u001b[0;32m   1005\u001b[0m                 \u001b[0mself\u001b[0m\u001b[1;33m.\u001b[0m\u001b[0m_iterating\u001b[0m \u001b[1;33m=\u001b[0m \u001b[0mself\u001b[0m\u001b[1;33m.\u001b[0m\u001b[0m_original_iterator\u001b[0m \u001b[1;32mis\u001b[0m \u001b[1;32mnot\u001b[0m \u001b[1;32mNone\u001b[0m\u001b[1;33m\u001b[0m\u001b[1;33m\u001b[0m\u001b[0m\n\u001b[0;32m   1006\u001b[0m \u001b[1;33m\u001b[0m\u001b[0m\n\u001b[1;32m-> 1007\u001b[1;33m             \u001b[1;32mwhile\u001b[0m \u001b[0mself\u001b[0m\u001b[1;33m.\u001b[0m\u001b[0mdispatch_one_batch\u001b[0m\u001b[1;33m(\u001b[0m\u001b[0miterator\u001b[0m\u001b[1;33m)\u001b[0m\u001b[1;33m:\u001b[0m\u001b[1;33m\u001b[0m\u001b[1;33m\u001b[0m\u001b[0m\n\u001b[0m\u001b[0;32m   1008\u001b[0m                 \u001b[1;32mpass\u001b[0m\u001b[1;33m\u001b[0m\u001b[1;33m\u001b[0m\u001b[0m\n\u001b[0;32m   1009\u001b[0m \u001b[1;33m\u001b[0m\u001b[0m\n",
      "\u001b[1;32m~\\miniconda3\\envs\\tfp\\lib\\site-packages\\joblib\\parallel.py\u001b[0m in \u001b[0;36mdispatch_one_batch\u001b[1;34m(self, iterator)\u001b[0m\n\u001b[0;32m    833\u001b[0m                 \u001b[1;32mreturn\u001b[0m \u001b[1;32mFalse\u001b[0m\u001b[1;33m\u001b[0m\u001b[1;33m\u001b[0m\u001b[0m\n\u001b[0;32m    834\u001b[0m             \u001b[1;32melse\u001b[0m\u001b[1;33m:\u001b[0m\u001b[1;33m\u001b[0m\u001b[1;33m\u001b[0m\u001b[0m\n\u001b[1;32m--> 835\u001b[1;33m                 \u001b[0mself\u001b[0m\u001b[1;33m.\u001b[0m\u001b[0m_dispatch\u001b[0m\u001b[1;33m(\u001b[0m\u001b[0mtasks\u001b[0m\u001b[1;33m)\u001b[0m\u001b[1;33m\u001b[0m\u001b[1;33m\u001b[0m\u001b[0m\n\u001b[0m\u001b[0;32m    836\u001b[0m                 \u001b[1;32mreturn\u001b[0m \u001b[1;32mTrue\u001b[0m\u001b[1;33m\u001b[0m\u001b[1;33m\u001b[0m\u001b[0m\n\u001b[0;32m    837\u001b[0m \u001b[1;33m\u001b[0m\u001b[0m\n",
      "\u001b[1;32m~\\miniconda3\\envs\\tfp\\lib\\site-packages\\joblib\\parallel.py\u001b[0m in \u001b[0;36m_dispatch\u001b[1;34m(self, batch)\u001b[0m\n\u001b[0;32m    752\u001b[0m         \u001b[1;32mwith\u001b[0m \u001b[0mself\u001b[0m\u001b[1;33m.\u001b[0m\u001b[0m_lock\u001b[0m\u001b[1;33m:\u001b[0m\u001b[1;33m\u001b[0m\u001b[1;33m\u001b[0m\u001b[0m\n\u001b[0;32m    753\u001b[0m             \u001b[0mjob_idx\u001b[0m \u001b[1;33m=\u001b[0m \u001b[0mlen\u001b[0m\u001b[1;33m(\u001b[0m\u001b[0mself\u001b[0m\u001b[1;33m.\u001b[0m\u001b[0m_jobs\u001b[0m\u001b[1;33m)\u001b[0m\u001b[1;33m\u001b[0m\u001b[1;33m\u001b[0m\u001b[0m\n\u001b[1;32m--> 754\u001b[1;33m             \u001b[0mjob\u001b[0m \u001b[1;33m=\u001b[0m \u001b[0mself\u001b[0m\u001b[1;33m.\u001b[0m\u001b[0m_backend\u001b[0m\u001b[1;33m.\u001b[0m\u001b[0mapply_async\u001b[0m\u001b[1;33m(\u001b[0m\u001b[0mbatch\u001b[0m\u001b[1;33m,\u001b[0m \u001b[0mcallback\u001b[0m\u001b[1;33m=\u001b[0m\u001b[0mcb\u001b[0m\u001b[1;33m)\u001b[0m\u001b[1;33m\u001b[0m\u001b[1;33m\u001b[0m\u001b[0m\n\u001b[0m\u001b[0;32m    755\u001b[0m             \u001b[1;31m# A job can complete so quickly than its callback is\u001b[0m\u001b[1;33m\u001b[0m\u001b[1;33m\u001b[0m\u001b[1;33m\u001b[0m\u001b[0m\n\u001b[0;32m    756\u001b[0m             \u001b[1;31m# called before we get here, causing self._jobs to\u001b[0m\u001b[1;33m\u001b[0m\u001b[1;33m\u001b[0m\u001b[1;33m\u001b[0m\u001b[0m\n",
      "\u001b[1;32m~\\miniconda3\\envs\\tfp\\lib\\site-packages\\joblib\\_parallel_backends.py\u001b[0m in \u001b[0;36mapply_async\u001b[1;34m(self, func, callback)\u001b[0m\n\u001b[0;32m    207\u001b[0m     \u001b[1;32mdef\u001b[0m \u001b[0mapply_async\u001b[0m\u001b[1;33m(\u001b[0m\u001b[0mself\u001b[0m\u001b[1;33m,\u001b[0m \u001b[0mfunc\u001b[0m\u001b[1;33m,\u001b[0m \u001b[0mcallback\u001b[0m\u001b[1;33m=\u001b[0m\u001b[1;32mNone\u001b[0m\u001b[1;33m)\u001b[0m\u001b[1;33m:\u001b[0m\u001b[1;33m\u001b[0m\u001b[1;33m\u001b[0m\u001b[0m\n\u001b[0;32m    208\u001b[0m         \u001b[1;34m\"\"\"Schedule a func to be run\"\"\"\u001b[0m\u001b[1;33m\u001b[0m\u001b[1;33m\u001b[0m\u001b[0m\n\u001b[1;32m--> 209\u001b[1;33m         \u001b[0mresult\u001b[0m \u001b[1;33m=\u001b[0m \u001b[0mImmediateResult\u001b[0m\u001b[1;33m(\u001b[0m\u001b[0mfunc\u001b[0m\u001b[1;33m)\u001b[0m\u001b[1;33m\u001b[0m\u001b[1;33m\u001b[0m\u001b[0m\n\u001b[0m\u001b[0;32m    210\u001b[0m         \u001b[1;32mif\u001b[0m \u001b[0mcallback\u001b[0m\u001b[1;33m:\u001b[0m\u001b[1;33m\u001b[0m\u001b[1;33m\u001b[0m\u001b[0m\n\u001b[0;32m    211\u001b[0m             \u001b[0mcallback\u001b[0m\u001b[1;33m(\u001b[0m\u001b[0mresult\u001b[0m\u001b[1;33m)\u001b[0m\u001b[1;33m\u001b[0m\u001b[1;33m\u001b[0m\u001b[0m\n",
      "\u001b[1;32m~\\miniconda3\\envs\\tfp\\lib\\site-packages\\joblib\\_parallel_backends.py\u001b[0m in \u001b[0;36m__init__\u001b[1;34m(self, batch)\u001b[0m\n\u001b[0;32m    588\u001b[0m         \u001b[1;31m# Don't delay the application, to avoid keeping the input\u001b[0m\u001b[1;33m\u001b[0m\u001b[1;33m\u001b[0m\u001b[1;33m\u001b[0m\u001b[0m\n\u001b[0;32m    589\u001b[0m         \u001b[1;31m# arguments in memory\u001b[0m\u001b[1;33m\u001b[0m\u001b[1;33m\u001b[0m\u001b[1;33m\u001b[0m\u001b[0m\n\u001b[1;32m--> 590\u001b[1;33m         \u001b[0mself\u001b[0m\u001b[1;33m.\u001b[0m\u001b[0mresults\u001b[0m \u001b[1;33m=\u001b[0m \u001b[0mbatch\u001b[0m\u001b[1;33m(\u001b[0m\u001b[1;33m)\u001b[0m\u001b[1;33m\u001b[0m\u001b[1;33m\u001b[0m\u001b[0m\n\u001b[0m\u001b[0;32m    591\u001b[0m \u001b[1;33m\u001b[0m\u001b[0m\n\u001b[0;32m    592\u001b[0m     \u001b[1;32mdef\u001b[0m \u001b[0mget\u001b[0m\u001b[1;33m(\u001b[0m\u001b[0mself\u001b[0m\u001b[1;33m)\u001b[0m\u001b[1;33m:\u001b[0m\u001b[1;33m\u001b[0m\u001b[1;33m\u001b[0m\u001b[0m\n",
      "\u001b[1;32m~\\miniconda3\\envs\\tfp\\lib\\site-packages\\joblib\\parallel.py\u001b[0m in \u001b[0;36m__call__\u001b[1;34m(self)\u001b[0m\n\u001b[0;32m    254\u001b[0m         \u001b[1;32mwith\u001b[0m \u001b[0mparallel_backend\u001b[0m\u001b[1;33m(\u001b[0m\u001b[0mself\u001b[0m\u001b[1;33m.\u001b[0m\u001b[0m_backend\u001b[0m\u001b[1;33m,\u001b[0m \u001b[0mn_jobs\u001b[0m\u001b[1;33m=\u001b[0m\u001b[0mself\u001b[0m\u001b[1;33m.\u001b[0m\u001b[0m_n_jobs\u001b[0m\u001b[1;33m)\u001b[0m\u001b[1;33m:\u001b[0m\u001b[1;33m\u001b[0m\u001b[1;33m\u001b[0m\u001b[0m\n\u001b[0;32m    255\u001b[0m             return [func(*args, **kwargs)\n\u001b[1;32m--> 256\u001b[1;33m                     for func, args, kwargs in self.items]\n\u001b[0m\u001b[0;32m    257\u001b[0m \u001b[1;33m\u001b[0m\u001b[0m\n\u001b[0;32m    258\u001b[0m     \u001b[1;32mdef\u001b[0m \u001b[0m__len__\u001b[0m\u001b[1;33m(\u001b[0m\u001b[0mself\u001b[0m\u001b[1;33m)\u001b[0m\u001b[1;33m:\u001b[0m\u001b[1;33m\u001b[0m\u001b[1;33m\u001b[0m\u001b[0m\n",
      "\u001b[1;32m~\\miniconda3\\envs\\tfp\\lib\\site-packages\\joblib\\parallel.py\u001b[0m in \u001b[0;36m<listcomp>\u001b[1;34m(.0)\u001b[0m\n\u001b[0;32m    254\u001b[0m         \u001b[1;32mwith\u001b[0m \u001b[0mparallel_backend\u001b[0m\u001b[1;33m(\u001b[0m\u001b[0mself\u001b[0m\u001b[1;33m.\u001b[0m\u001b[0m_backend\u001b[0m\u001b[1;33m,\u001b[0m \u001b[0mn_jobs\u001b[0m\u001b[1;33m=\u001b[0m\u001b[0mself\u001b[0m\u001b[1;33m.\u001b[0m\u001b[0m_n_jobs\u001b[0m\u001b[1;33m)\u001b[0m\u001b[1;33m:\u001b[0m\u001b[1;33m\u001b[0m\u001b[1;33m\u001b[0m\u001b[0m\n\u001b[0;32m    255\u001b[0m             return [func(*args, **kwargs)\n\u001b[1;32m--> 256\u001b[1;33m                     for func, args, kwargs in self.items]\n\u001b[0m\u001b[0;32m    257\u001b[0m \u001b[1;33m\u001b[0m\u001b[0m\n\u001b[0;32m    258\u001b[0m     \u001b[1;32mdef\u001b[0m \u001b[0m__len__\u001b[0m\u001b[1;33m(\u001b[0m\u001b[0mself\u001b[0m\u001b[1;33m)\u001b[0m\u001b[1;33m:\u001b[0m\u001b[1;33m\u001b[0m\u001b[1;33m\u001b[0m\u001b[0m\n",
      "\u001b[1;32m~\\miniconda3\\envs\\tfp\\lib\\site-packages\\sklearn\\ensemble\\_forest.py\u001b[0m in \u001b[0;36m_parallel_build_trees\u001b[1;34m(tree, forest, X, y, sample_weight, tree_idx, n_trees, verbose, class_weight, n_samples_bootstrap)\u001b[0m\n\u001b[0;32m    163\u001b[0m             \u001b[0mcurr_sample_weight\u001b[0m \u001b[1;33m*=\u001b[0m \u001b[0mcompute_sample_weight\u001b[0m\u001b[1;33m(\u001b[0m\u001b[1;34m'balanced'\u001b[0m\u001b[1;33m,\u001b[0m \u001b[0my\u001b[0m\u001b[1;33m,\u001b[0m \u001b[0mindices\u001b[0m\u001b[1;33m)\u001b[0m\u001b[1;33m\u001b[0m\u001b[1;33m\u001b[0m\u001b[0m\n\u001b[0;32m    164\u001b[0m \u001b[1;33m\u001b[0m\u001b[0m\n\u001b[1;32m--> 165\u001b[1;33m         \u001b[0mtree\u001b[0m\u001b[1;33m.\u001b[0m\u001b[0mfit\u001b[0m\u001b[1;33m(\u001b[0m\u001b[0mX\u001b[0m\u001b[1;33m,\u001b[0m \u001b[0my\u001b[0m\u001b[1;33m,\u001b[0m \u001b[0msample_weight\u001b[0m\u001b[1;33m=\u001b[0m\u001b[0mcurr_sample_weight\u001b[0m\u001b[1;33m,\u001b[0m \u001b[0mcheck_input\u001b[0m\u001b[1;33m=\u001b[0m\u001b[1;32mFalse\u001b[0m\u001b[1;33m)\u001b[0m\u001b[1;33m\u001b[0m\u001b[1;33m\u001b[0m\u001b[0m\n\u001b[0m\u001b[0;32m    166\u001b[0m     \u001b[1;32melse\u001b[0m\u001b[1;33m:\u001b[0m\u001b[1;33m\u001b[0m\u001b[1;33m\u001b[0m\u001b[0m\n\u001b[0;32m    167\u001b[0m         \u001b[0mtree\u001b[0m\u001b[1;33m.\u001b[0m\u001b[0mfit\u001b[0m\u001b[1;33m(\u001b[0m\u001b[0mX\u001b[0m\u001b[1;33m,\u001b[0m \u001b[0my\u001b[0m\u001b[1;33m,\u001b[0m \u001b[0msample_weight\u001b[0m\u001b[1;33m=\u001b[0m\u001b[0msample_weight\u001b[0m\u001b[1;33m,\u001b[0m \u001b[0mcheck_input\u001b[0m\u001b[1;33m=\u001b[0m\u001b[1;32mFalse\u001b[0m\u001b[1;33m)\u001b[0m\u001b[1;33m\u001b[0m\u001b[1;33m\u001b[0m\u001b[0m\n",
      "\u001b[1;32m~\\miniconda3\\envs\\tfp\\lib\\site-packages\\sklearn\\tree\\_classes.py\u001b[0m in \u001b[0;36mfit\u001b[1;34m(self, X, y, sample_weight, check_input, X_idx_sorted)\u001b[0m\n\u001b[0;32m    875\u001b[0m             \u001b[0msample_weight\u001b[0m\u001b[1;33m=\u001b[0m\u001b[0msample_weight\u001b[0m\u001b[1;33m,\u001b[0m\u001b[1;33m\u001b[0m\u001b[1;33m\u001b[0m\u001b[0m\n\u001b[0;32m    876\u001b[0m             \u001b[0mcheck_input\u001b[0m\u001b[1;33m=\u001b[0m\u001b[0mcheck_input\u001b[0m\u001b[1;33m,\u001b[0m\u001b[1;33m\u001b[0m\u001b[1;33m\u001b[0m\u001b[0m\n\u001b[1;32m--> 877\u001b[1;33m             X_idx_sorted=X_idx_sorted)\n\u001b[0m\u001b[0;32m    878\u001b[0m         \u001b[1;32mreturn\u001b[0m \u001b[0mself\u001b[0m\u001b[1;33m\u001b[0m\u001b[1;33m\u001b[0m\u001b[0m\n\u001b[0;32m    879\u001b[0m \u001b[1;33m\u001b[0m\u001b[0m\n",
      "\u001b[1;32m~\\miniconda3\\envs\\tfp\\lib\\site-packages\\sklearn\\tree\\_classes.py\u001b[0m in \u001b[0;36mfit\u001b[1;34m(self, X, y, sample_weight, check_input, X_idx_sorted)\u001b[0m\n\u001b[0;32m    365\u001b[0m                                            min_impurity_split)\n\u001b[0;32m    366\u001b[0m \u001b[1;33m\u001b[0m\u001b[0m\n\u001b[1;32m--> 367\u001b[1;33m         \u001b[0mbuilder\u001b[0m\u001b[1;33m.\u001b[0m\u001b[0mbuild\u001b[0m\u001b[1;33m(\u001b[0m\u001b[0mself\u001b[0m\u001b[1;33m.\u001b[0m\u001b[0mtree_\u001b[0m\u001b[1;33m,\u001b[0m \u001b[0mX\u001b[0m\u001b[1;33m,\u001b[0m \u001b[0my\u001b[0m\u001b[1;33m,\u001b[0m \u001b[0msample_weight\u001b[0m\u001b[1;33m,\u001b[0m \u001b[0mX_idx_sorted\u001b[0m\u001b[1;33m)\u001b[0m\u001b[1;33m\u001b[0m\u001b[1;33m\u001b[0m\u001b[0m\n\u001b[0m\u001b[0;32m    368\u001b[0m \u001b[1;33m\u001b[0m\u001b[0m\n\u001b[0;32m    369\u001b[0m         \u001b[1;32mif\u001b[0m \u001b[0mself\u001b[0m\u001b[1;33m.\u001b[0m\u001b[0mn_outputs_\u001b[0m \u001b[1;33m==\u001b[0m \u001b[1;36m1\u001b[0m \u001b[1;32mand\u001b[0m \u001b[0mis_classifier\u001b[0m\u001b[1;33m(\u001b[0m\u001b[0mself\u001b[0m\u001b[1;33m)\u001b[0m\u001b[1;33m:\u001b[0m\u001b[1;33m\u001b[0m\u001b[1;33m\u001b[0m\u001b[0m\n",
      "\u001b[1;31mKeyboardInterrupt\u001b[0m: "
     ]
    }
   ],
   "source": [
    "rf2 = ensemble.RandomForestClassifier()\n",
    "rf_model2 = rf2.fit(x_train_tf_idf_ngram,train_y)\n",
    "\n",
    "accuracy10 = model_selection.cross_val_score(rf_model2, x_test_tf_idf_ngram, test_y, cv = 10).mean()\n",
    "recall10 = model_selection.cross_val_score(rf_model2, x_test_tf_idf_ngram, test_y, cv=10, scoring='recall').mean()\n",
    "precision10 = model_selection.cross_val_score(rf_model2, x_test_tf_idf_ngram, test_y, cv=10, scoring='precision').mean()\n",
    "f1_score10 =  model_selection.cross_val_score(rf_model2, x_test_tf_idf_ngram, test_y, cv=10, scoring='f1_macro').mean()\n",
    "\n",
    "print(\"N-GRAM TF-IDF Doğruluk Oranı:\", accuracy10)\n",
    "print(\"N-GRAM TF-IDF Recall:\", recall10)\n",
    "print(\"N-GRAM TF-IDF Precision:\", precision10)\n",
    "print(\"N-GRAM TF-IDF F1 Score:\", f1_score10)"
   ]
  },
  {
   "cell_type": "code",
   "execution_count": 27,
   "metadata": {
    "scrolled": true
   },
   "outputs": [
    {
     "name": "stdout",
     "output_type": "stream",
     "text": [
      "CHARLEVEL TF-IDF Doğruluk Oranı: 0.9776625408646702\n",
      "CHARLEVEL TF-IDF Recall: 0.9998765432098764\n",
      "CHARLEVEL TF-IDF Precision: 0.977898975448668\n",
      "CHARLEVEL TF-IDF F1 Score: 0.49435251419647497\n"
     ]
    }
   ],
   "source": [
    "rf3 = ensemble.RandomForestClassifier()\n",
    "rf_model3 = rf3.fit(x_train_tf_idf_chars,train_y)\n",
    "\n",
    "accuracy11 = model_selection.cross_val_score(rf_model3, x_test_tf_idf_chars, test_y, cv = 10).mean()\n",
    "recall11 = model_selection.cross_val_score(rf_model3, x_test_tf_idf_chars, test_y, cv=10, scoring='recall').mean()\n",
    "precision11 = model_selection.cross_val_score(rf_model3, x_test_tf_idf_chars, test_y, cv=10, scoring='precision').mean()\n",
    "f1_score11 =  model_selection.cross_val_score(rf_model3, x_test_tf_idf_chars, test_y, cv=10, scoring='f1_macro').mean()\n",
    "\n",
    "print(\"CHARLEVEL TF-IDF Doğruluk Oranı:\", accuracy11)\n",
    "print(\"CHARLEVEL TF-IDF Recall:\", recall11)\n",
    "print(\"CHARLEVEL TF-IDF Precision:\", precision11)\n",
    "print(\"CHARLEVEL TF-IDF F1 Score:\", f1_score11)"
   ]
  },
  {
   "cell_type": "markdown",
   "metadata": {},
   "source": [
    "# graph"
   ]
  },
  {
   "cell_type": "code",
   "execution_count": 37,
   "metadata": {},
   "outputs": [
    {
     "data": {
      "image/png": "[encoded data removed]",
      "text/plain": [
       "<Figure size 432x288 with 1 Axes>"
      ]
     },
     "metadata": {
      "needs_background": "light"
     },
     "output_type": "display_data"
    }
   ],
   "source": [
    "import numpy as np\n",
    "import matplotlib.pyplot as plt\n",
    "\n",
    "# data to plot\n",
    "n_groups = 3\n",
    "cv = (accuracy, accuracy4, accuracy8)\n",
    "word = (accuracy1, accuracy5, accuracy9)\n",
    "ngram = (accuracy2, accuracy6, 0.95)\n",
    "char = (accuracy3, accuracy7, accuracy11)\n",
    "# create plot\n",
    "fig, ax = plt.subplots()\n",
    "index = np.arange(n_groups)\n",
    "bar_width = 0.15\n",
    "opacity = 0.8\n",
    "\n",
    "rects1 = plt.bar(index, cv, bar_width,\n",
    "alpha=opacity,\n",
    "color='purple',\n",
    "label='countvector')\n",
    "\n",
    "rects2 = plt.bar(index + bar_width, word, bar_width,\n",
    "alpha=opacity,\n",
    "color='g',\n",
    "label='tf-idf word')\n",
    "\n",
    "rects3 = plt.bar(index + bar_width*2, ngram, bar_width,\n",
    "alpha=opacity,\n",
    "color='red',\n",
    "label='tf-idf ngram')\n",
    "\n",
    "rects3 = plt.bar(index + bar_width*3, char, bar_width,\n",
    "alpha=opacity,\n",
    "color='pink',\n",
    "label='tf-idf char')\n",
    "\n",
    "plt.xlabel('Algorithym')\n",
    "plt.ylabel('%')\n",
    "plt.title('Consumer Reviews of Amazon Product - Accuracy')\n",
    "plt.xticks(index + bar_width/4, ('Lojistic Regression', 'Naive Bayes', 'Random Forest'))\n",
    "plt.legend()\n",
    "\n",
    "plt.tight_layout()\n",
    "plt.show()"
   ]
  },
  {
   "cell_type": "code",
   "execution_count": 30,
   "metadata": {},
   "outputs": [
    {
     "data": {
      "image/png": "[encoded data removed]",
      "text/plain": [
       "<Figure size 432x288 with 1 Axes>"
      ]
     },
     "metadata": {
      "needs_background": "light"
     },
     "output_type": "display_data"
    }
   ],
   "source": [
    "import numpy as np\n",
    "import matplotlib.pyplot as plt\n",
    "\n",
    "# data to plot\n",
    "n_groups = 3\n",
    "cv = (f1_score, f1_score4, f1_score8)\n",
    "word = (f1_score1, f1_score5, f1_score9)\n",
    "ngram = (f1_score2, f1_score6, 0.48)\n",
    "char = (f1_score3, f1_score7, f1_score11)\n",
    "# create plot\n",
    "fig, ax = plt.subplots()\n",
    "index = np.arange(n_groups)\n",
    "bar_width = 0.15\n",
    "opacity = 0.8\n",
    "\n",
    "rects1 = plt.bar(index, cv, bar_width,\n",
    "alpha=opacity,\n",
    "color='purple',\n",
    "label='countvector')\n",
    "\n",
    "rects2 = plt.bar(index + bar_width, word, bar_width,\n",
    "alpha=opacity,\n",
    "color='g',\n",
    "label='tf-idf word')\n",
    "\n",
    "rects3 = plt.bar(index + bar_width*2, ngram, bar_width,\n",
    "alpha=opacity,\n",
    "color='red',\n",
    "label='tf-idf ngram')\n",
    "\n",
    "rects3 = plt.bar(index + bar_width*3, char, bar_width,\n",
    "alpha=opacity,\n",
    "color='pink',\n",
    "label='tf-idf char')\n",
    "\n",
    "plt.xlabel('Algorithym')\n",
    "plt.ylabel('%')\n",
    "plt.title(\"Consumer Reviews of Amazon Product - F1 Score\")\n",
    "plt.xticks(index + bar_width/4, ('Lojistic Regression', 'Naive Bayes', 'Random Forest'))\n",
    "plt.legend()\n",
    "\n",
    "plt.tight_layout()\n",
    "plt.show()"
   ]
  },
  {
   "cell_type": "code",
   "execution_count": null,
   "metadata": {},
   "outputs": [],
   "source": []
  },
  {
   "cell_type": "code",
   "execution_count": null,
   "metadata": {},
   "outputs": [],
   "source": []
  },
  {
   "cell_type": "code",
   "execution_count": null,
   "metadata": {},
   "outputs": [],
   "source": []
  },
  {
   "cell_type": "code",
   "execution_count": null,
   "metadata": {},
   "outputs": [],
   "source": []
  },
  {
   "cell_type": "code",
   "execution_count": null,
   "metadata": {},
   "outputs": [],
   "source": []
  },
  {
   "cell_type": "code",
   "execution_count": null,
   "metadata": {},
   "outputs": [],
   "source": []
  },
  {
   "cell_type": "code",
   "execution_count": null,
   "metadata": {},
   "outputs": [],
   "source": []
  },
  {
   "cell_type": "code",
   "execution_count": null,
   "metadata": {},
   "outputs": [],
   "source": []
  },
  {
   "cell_type": "code",
   "execution_count": null,
   "metadata": {},
   "outputs": [],
   "source": []
  },
  {
   "cell_type": "code",
   "execution_count": null,
   "metadata": {},
   "outputs": [],
   "source": []
  },
  {
   "cell_type": "code",
   "execution_count": null,
   "metadata": {},
   "outputs": [],
   "source": []
  },
  {
   "cell_type": "code",
   "execution_count": null,
   "metadata": {},
   "outputs": [],
   "source": []
  },
  {
   "cell_type": "code",
   "execution_count": null,
   "metadata": {},
   "outputs": [],
   "source": []
  },
  {
   "cell_type": "code",
   "execution_count": null,
   "metadata": {},
   "outputs": [],
   "source": []
  },
  {
   "cell_type": "code",
   "execution_count": null,
   "metadata": {},
   "outputs": [],
   "source": []
  },
  {
   "cell_type": "code",
   "execution_count": null,
   "metadata": {},
   "outputs": [],
   "source": []
  },
  {
   "cell_type": "code",
   "execution_count": null,
   "metadata": {},
   "outputs": [],
   "source": []
  }
 ],
 "metadata": {
  "kernelspec": {
   "display_name": "Python 3",
   "language": "python",
   "name": "python3"
  },
  "language_info": {
   "codemirror_mode": {
    "name": "ipython",
    "version": 3
   },
   "file_extension": ".py",
   "mimetype": "text/x-python",
   "name": "python",
   "nbconvert_exporter": "python",
   "pygments_lexer": "ipython3",
   "version": "3.6.10"
  }
 },
 "nbformat": 4,
 "nbformat_minor": 4
}
