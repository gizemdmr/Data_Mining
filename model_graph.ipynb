{
 "cells": [
  {
   "cell_type": "code",
   "execution_count": 1,
   "metadata": {},
   "outputs": [
    {
     "name": "stderr",
     "output_type": "stream",
     "text": [
      "Using TensorFlow backend.\n"
     ]
    }
   ],
   "source": [
    "from textblob import TextBlob\n",
    "from sklearn import model_selection, preprocessing, linear_model, naive_bayes, metrics\n",
    "from sklearn.feature_extraction.text import TfidfVectorizer, CountVectorizer\n",
    "from sklearn import decomposition, ensemble\n",
    "\n",
    "import pandas, numpy, textblob, string\n",
    "from keras.preprocessing import text, sequence\n",
    "from keras import layers, models, optimizers\n",
    "\n",
    "\n",
    "from warnings import filterwarnings\n",
    "filterwarnings('ignore')"
   ]
  },
  {
   "cell_type": "code",
   "execution_count": 2,
   "metadata": {},
   "outputs": [],
   "source": [
    "import pandas as pd \n",
    "data = pd.read_csv('datafiniti-hotel-reviews/Datafiniti_Hotel_Reviews.csv')"
   ]
  },
  {
   "cell_type": "code",
   "execution_count": 3,
   "metadata": {},
   "outputs": [],
   "source": [
    "data[\"reviews.rating\"].replace(1.0, value = \"negatif\", inplace = True)\n",
    "data[\"reviews.rating\"].replace(2.0, value = \"negatif\", inplace = True)\n",
    "data[\"reviews.rating\"].replace(4.0, value = \"pozitif\", inplace = True)\n",
    "data[\"reviews.rating\"].replace(5.0, value = \"pozitif\", inplace = True)\n",
    "data = data[(data['reviews.rating'] == \"negatif\") | (data['reviews.rating'] == \"pozitif\")] "
   ]
  },
  {
   "cell_type": "code",
   "execution_count": 4,
   "metadata": {},
   "outputs": [],
   "source": [
    "df = pd.DataFrame()\n",
    "df[\"comment\"] = data[\"reviews.text\"]\n",
    "df[\"sentiment\"] = data[\"reviews.rating\"]"
   ]
  },
  {
   "cell_type": "code",
   "execution_count": 5,
   "metadata": {},
   "outputs": [],
   "source": [
    "#buyuk-kucuk donusumu\n",
    "df['comment'] = df['comment'].apply(lambda x: \" \".join(x.lower() for x in x.split()))\n",
    "#noktalama işaretleri\n",
    "df['comment'] = df['comment'].str.replace('[^\\w\\s]','')\n",
    "#sayılar\n",
    "df['comment'] = df['comment'].str.replace('\\d','')\n",
    "#stopwords\n",
    "import nltk\n",
    "#nltk.download('stopwords')\n",
    "from nltk.corpus import stopwords\n",
    "sw = stopwords.words('english')\n",
    "df['comment'] = df['comment'].apply(lambda x: \" \".join(x for x in x.split() if x not in sw))\n",
    "#seyreklerin silinmesi\n",
    "sil = pd.Series(' '.join(df['comment']).split()).value_counts()[-1000:]\n",
    "df['comment'] = df['comment'].apply(lambda x: \" \".join(x for x in x.split() if x not in sil))\n",
    "#lemmi\n",
    "from textblob import Word\n",
    "#nltk.download('wordnet')\n",
    "df['comment'] = df['comment'].apply(lambda x: \" \".join([Word(word).lemmatize() for word in x.split()])) \n",
    "\n"
   ]
  },
  {
   "cell_type": "code",
   "execution_count": 6,
   "metadata": {},
   "outputs": [],
   "source": [
    "train_x, test_x, train_y, test_y = model_selection.train_test_split(df[\"comment\"],\n",
    "                                                                   df[\"sentiment\"], \n",
    "                                                                    random_state = 1)\n",
    "encoder = preprocessing.LabelEncoder()\n",
    "train_y = encoder.fit_transform(train_y)\n",
    "test_y = encoder.fit_transform(test_y)"
   ]
  },
  {
   "cell_type": "markdown",
   "metadata": {},
   "source": [
    "# özellik çıkarımı yöntemleri "
   ]
  },
  {
   "cell_type": "code",
   "execution_count": 7,
   "metadata": {},
   "outputs": [],
   "source": [
    "# count vektor\n",
    "vectorizer = CountVectorizer() #ilk başta oluşturduğumuz train_x'i bozmamak için yeni vectorizer oluşturduk.\n",
    "vectorizer.fit(train_x)\n",
    "x_train_count = vectorizer.transform(train_x)\n",
    "x_test_count = vectorizer.transform(test_x)\n",
    "\n",
    "# tf-idf \n",
    "tf_idf_word_vectorizer = TfidfVectorizer() #ilk başta oluşturduğumuz train_x'i bozmamak için yeni vectorizer oluşturduk.\n",
    "tf_idf_word_vectorizer.fit(train_x)\n",
    "x_train_tf_idf_word = tf_idf_word_vectorizer.transform(train_x)\n",
    "x_test_tf_idf_word = tf_idf_word_vectorizer.transform(test_x)\n",
    "\n",
    "# ngram level tf-idf\n",
    "tf_idf_ngram_vectorizer = TfidfVectorizer(ngram_range = (2,3))\n",
    "tf_idf_ngram_vectorizer.fit(train_x)\n",
    "x_train_tf_idf_ngram = tf_idf_ngram_vectorizer.transform(train_x)\n",
    "x_test_tf_idf_ngram = tf_idf_ngram_vectorizer.transform(test_x)\n",
    "\n",
    "# character level tf-idf\n",
    "tf_idf_chars_vectorizer = TfidfVectorizer(analyzer = \"char\", ngram_range = (2,3))\n",
    "tf_idf_chars_vectorizer.fit(train_x)\n",
    "x_train_tf_idf_chars = tf_idf_chars_vectorizer.transform(train_x)\n",
    "x_test_tf_idf_chars = tf_idf_chars_vectorizer.transform(test_x)"
   ]
  },
  {
   "cell_type": "markdown",
   "metadata": {},
   "source": [
    "# \"\"\" makine öğrenmesi sınıflandırma algoritmaları \"\"\""
   ]
  },
  {
   "cell_type": "markdown",
   "metadata": {},
   "source": [
    "# \"\"\"naive bayes\"\"\""
   ]
  },
  {
   "cell_type": "code",
   "execution_count": 8,
   "metadata": {},
   "outputs": [
    {
     "name": "stdout",
     "output_type": "stream",
     "text": [
      "Count Vectors Doğruluk Oranı: 0.8989463159513921\n",
      "Count Vectors Recall: 0.9911764705882353\n",
      "Count Vectors Precision: 0.9012396294605377\n",
      "Count Vectors F1 Score: 0.7114292829715505\n"
     ]
    }
   ],
   "source": [
    "nb = naive_bayes.MultinomialNB()\n",
    "nb_model = nb.fit(x_train_count,train_y)\n",
    "\n",
    "accuracy4 = model_selection.cross_val_score(nb_model, x_test_count, test_y, cv = 10).mean()\n",
    "recall4 = model_selection.cross_val_score(nb_model, x_test_count, test_y, cv=10, scoring='recall').mean()\n",
    "precision4 = model_selection.cross_val_score(nb_model, x_test_count, test_y, cv=10, scoring='precision').mean()\n",
    "f1_score4 =  model_selection.cross_val_score(nb_model, x_test_count, test_y, cv=10, scoring='f1_macro').mean()\n",
    "\n",
    "print(\"Count Vectors Doğruluk Oranı:\", accuracy4)\n",
    "print(\"Count Vectors Recall:\", recall4)\n",
    "print(\"Count Vectors Precision:\", precision4)\n",
    "print(\"Count Vectors F1 Score:\", f1_score4)"
   ]
  },
  {
   "cell_type": "code",
   "execution_count": 9,
   "metadata": {},
   "outputs": [
    {
     "name": "stdout",
     "output_type": "stream",
     "text": [
      "Word-Level TF-IDF Doğruluk Oranı: 0.859526739475978\n",
      "Word-Level TF-IDF Recall: 1.0\n",
      "Word-Level TF-IDF Precision: 0.859526739475978\n",
      "Word-Level TF-IDF F1 Score: 0.46222820669149706\n"
     ]
    }
   ],
   "source": [
    "nb1 = naive_bayes.MultinomialNB()\n",
    "nb_model1 = nb1.fit(x_train_tf_idf_word,train_y)\n",
    "\n",
    "accuracy5 = model_selection.cross_val_score(nb_model1, x_test_tf_idf_word, test_y, cv = 10).mean()\n",
    "recall5 = model_selection.cross_val_score(nb_model1, x_test_tf_idf_word, test_y, cv=10, scoring='recall').mean()\n",
    "precision5 = model_selection.cross_val_score(nb_model1, x_test_tf_idf_word, test_y, cv=10, scoring='precision').mean()\n",
    "f1_score5 =  model_selection.cross_val_score(nb_model1, x_test_tf_idf_word, test_y, cv=10, scoring='f1_macro').mean()\n",
    "\n",
    "print(\"Word-Level TF-IDF Doğruluk Oranı:\", accuracy5)\n",
    "print(\"Word-Level TF-IDF Recall:\", recall5)\n",
    "print(\"Word-Level TF-IDF Precision:\", precision5)\n",
    "print(\"Word-Level TF-IDF F1 Score:\", f1_score5)"
   ]
  },
  {
   "cell_type": "code",
   "execution_count": 10,
   "metadata": {},
   "outputs": [
    {
     "name": "stdout",
     "output_type": "stream",
     "text": [
      "N-GRAM TF-IDF Doğruluk Oranı: 0.859526739475978\n",
      "N-GRAM TF-IDF Recall: 1.0\n",
      "N-GRAM TF-IDF Precision: 0.859526739475978\n",
      "N-GRAM TF-IDF F1 Score: 0.46222820669149706\n"
     ]
    }
   ],
   "source": [
    "nb2 = naive_bayes.MultinomialNB()\n",
    "nb_model2 = nb2.fit(x_train_tf_idf_ngram,train_y)\n",
    "\n",
    "accuracy6 = model_selection.cross_val_score(nb_model2, x_test_tf_idf_ngram, test_y, cv = 10).mean()\n",
    "recall6 = model_selection.cross_val_score(nb_model2, x_test_tf_idf_ngram, test_y, cv=10, scoring='recall').mean()\n",
    "precision6 = model_selection.cross_val_score(nb_model2, x_test_tf_idf_ngram, test_y, cv=10, scoring='precision').mean()\n",
    "f1_score6 =  model_selection.cross_val_score(nb_model2, x_test_tf_idf_ngram, test_y, cv=10, scoring='f1_macro').mean()\n",
    "\n",
    "print(\"N-GRAM TF-IDF Doğruluk Oranı:\", accuracy6)\n",
    "print(\"N-GRAM TF-IDF Recall:\", recall6)\n",
    "print(\"N-GRAM TF-IDF Precision:\", precision6)\n",
    "print(\"N-GRAM TF-IDF F1 Score:\", f1_score6)"
   ]
  },
  {
   "cell_type": "code",
   "execution_count": 11,
   "metadata": {},
   "outputs": [
    {
     "name": "stdout",
     "output_type": "stream",
     "text": [
      "CHARLEVEL TF-IDF Doğruluk Oranı: 0.859526739475978\n",
      "CHARLEVEL TF-IDF Recall: 1.0\n",
      "CHARLEVEL TF-IDF Precision: 0.859526739475978\n",
      "CHARLEVEL TF-IDF F1 Score: 0.46222820669149706\n"
     ]
    }
   ],
   "source": [
    "nb3 = naive_bayes.MultinomialNB()\n",
    "nb_model3 = nb3.fit(x_train_tf_idf_chars,train_y)\n",
    "\n",
    "accuracy7 = model_selection.cross_val_score(nb_model3, x_test_tf_idf_chars, test_y, cv = 10).mean()\n",
    "recall7 = model_selection.cross_val_score(nb_model3, x_test_tf_idf_chars, test_y, cv=10, scoring='recall').mean()\n",
    "precision7 = model_selection.cross_val_score(nb_model3, x_test_tf_idf_chars, test_y, cv=10, scoring='precision').mean()\n",
    "f1_score7 =  model_selection.cross_val_score(nb_model3, x_test_tf_idf_chars, test_y, cv=10, scoring='f1_macro').mean()\n",
    "\n",
    "print(\"CHARLEVEL TF-IDF Doğruluk Oranı:\", accuracy7)\n",
    "print(\"CHARLEVEL TF-IDF Recall:\", recall7)\n",
    "print(\"CHARLEVEL TF-IDF Precision:\", precision7)\n",
    "print(\"CHARLEVEL TF-IDF F1 Score:\", f1_score7)"
   ]
  },
  {
   "cell_type": "markdown",
   "metadata": {},
   "source": [
    "# \"\"\"lojistik regresyon\"\"\""
   ]
  },
  {
   "cell_type": "code",
   "execution_count": 9,
   "metadata": {},
   "outputs": [
    {
     "name": "stdout",
     "output_type": "stream",
     "text": [
      "Count Vectors Doğruluk Oranı: 0.9181382351433113\n",
      "Count Vectors Recall: 0.9811902304781561\n",
      "Count Vectors Precision: 0.9278006900801374\n",
      "Count Vectors F1 Score: 0.7996170993467435\n"
     ]
    }
   ],
   "source": [
    "loj = linear_model.LogisticRegression()\n",
    "loj_model = loj.fit(x_train_count, train_y)\n",
    "\n",
    "accuracy = model_selection.cross_val_score(loj_model, x_test_count, test_y, cv = 10).mean()\n",
    "recall = model_selection.cross_val_score(loj_model, x_test_count, test_y, cv=10, scoring='recall').mean()\n",
    "precision = model_selection.cross_val_score(loj_model, x_test_count, test_y, cv=10, scoring='precision').mean()\n",
    "f1_score =  model_selection.cross_val_score(loj_model, x_test_count, test_y, cv=10, scoring='f1_macro').mean()\n",
    "\n",
    "print(\"Count Vectors Doğruluk Oranı:\", accuracy)\n",
    "print(\"Count Vectors Recall:\", recall)\n",
    "print(\"Count Vectors Precision:\", precision)\n",
    "print(\"Count Vectors F1 Score:\", f1_score)"
   ]
  },
  {
   "cell_type": "code",
   "execution_count": 13,
   "metadata": {},
   "outputs": [
    {
     "name": "stdout",
     "output_type": "stream",
     "text": [
      "Word-Level TF-IDF Doğruluk Oranı: 0.8762010972670872\n",
      "Word-Level TF-IDF Recall: 0.9988235294117647\n",
      "Word-Level TF-IDF Precision: 0.8749203004557954\n",
      "Word-Level TF-IDF F1 Score: 0.5756589907274576\n"
     ]
    }
   ],
   "source": [
    "loj1 = linear_model.LogisticRegression()\n",
    "loj_model1 = loj1.fit(x_train_tf_idf_word,train_y)\n",
    "\n",
    "accuracy1 = model_selection.cross_val_score(loj_model1, x_test_tf_idf_word, test_y, cv = 10).mean()\n",
    "recall1 = model_selection.cross_val_score(loj_model1, x_test_tf_idf_word, test_y, cv=10, scoring='recall').mean()\n",
    "precision1 = model_selection.cross_val_score(loj_model1, x_test_tf_idf_word, test_y, cv=10, scoring='precision').mean()\n",
    "f1_score1 =  model_selection.cross_val_score(loj_model1, x_test_tf_idf_word, test_y, cv=10, scoring='f1_macro').mean()\n",
    "\n",
    "print(\"Word-Level TF-IDF Doğruluk Oranı:\", accuracy1)\n",
    "print(\"Word-Level TF-IDF Recall:\", recall1)\n",
    "print(\"Word-Level TF-IDF Precision:\", precision1)\n",
    "print(\"Word-Level TF-IDF F1 Score:\", f1_score1)"
   ]
  },
  {
   "cell_type": "code",
   "execution_count": 14,
   "metadata": {},
   "outputs": [
    {
     "name": "stdout",
     "output_type": "stream",
     "text": [
      "N-GRAM TF-IDF Doğruluk Oranı: 0.859526739475978\n",
      "N-GRAM TF-IDF Recall: 1.0\n",
      "N-GRAM TF-IDF Precision: 0.859526739475978\n",
      "N-GRAM TF-IDF F1 Score: 0.46222820669149706\n"
     ]
    }
   ],
   "source": [
    "loj2 = linear_model.LogisticRegression()\n",
    "loj_model2 = loj2.fit(x_train_tf_idf_ngram,train_y)\n",
    "\n",
    "accuracy2 = model_selection.cross_val_score(loj_model2, x_test_tf_idf_ngram, test_y, cv = 10).mean()\n",
    "recall2 = model_selection.cross_val_score(loj_model2, x_test_tf_idf_ngram, test_y, cv=10, scoring='recall').mean()\n",
    "precision2 = model_selection.cross_val_score(loj_model2, x_test_tf_idf_ngram, test_y, cv=10, scoring='precision').mean()\n",
    "f1_score2 =  model_selection.cross_val_score(loj_model2, x_test_tf_idf_ngram, test_y, cv=10, scoring='f1_macro').mean()\n",
    "\n",
    "print(\"N-GRAM TF-IDF Doğruluk Oranı:\", accuracy2)\n",
    "print(\"N-GRAM TF-IDF Recall:\", recall2)\n",
    "print(\"N-GRAM TF-IDF Precision:\", precision2)\n",
    "print(\"N-GRAM TF-IDF F1 Score:\", f1_score2)"
   ]
  },
  {
   "cell_type": "code",
   "execution_count": 15,
   "metadata": {},
   "outputs": [
    {
     "name": "stdout",
     "output_type": "stream",
     "text": [
      "CHARLEVEL TF-IDF Doğruluk Oranı: 0.8878172588832488\n",
      "CHARLEVEL TF-IDF Recall: 0.9982352941176471\n",
      "CHARLEVEL TF-IDF Precision: 0.8859273127195824\n",
      "CHARLEVEL TF-IDF F1 Score: 0.6379120720630869\n"
     ]
    }
   ],
   "source": [
    "loj3 = linear_model.LogisticRegression()\n",
    "loj_model3 = loj3.fit(x_train_tf_idf_chars,train_y)\n",
    "\n",
    "accuracy3 = model_selection.cross_val_score(loj_model3, x_test_tf_idf_chars, test_y, cv = 10).mean()\n",
    "recall3 = model_selection.cross_val_score(loj_model3, x_test_tf_idf_chars, test_y, cv=10, scoring='recall').mean()\n",
    "precision3 = model_selection.cross_val_score(loj_model3, x_test_tf_idf_chars, test_y, cv=10, scoring='precision').mean()\n",
    "f1_score3 =  model_selection.cross_val_score(loj_model3, x_test_tf_idf_chars, test_y, cv=10, scoring='f1_macro').mean()\n",
    "\n",
    "print(\"CHARLEVEL TF-IDF Doğruluk Oranı:\", accuracy3)\n",
    "print(\"CHARLEVEL TF-IDF Recall:\", recall3)\n",
    "print(\"CHARLEVEL TF-IDF Precision:\", precision3)\n",
    "print(\"CHARLEVEL TF-IDF F1 Score:\", f1_score3)"
   ]
  },
  {
   "cell_type": "markdown",
   "metadata": {},
   "source": [
    "# \"\"\"random forest\"\"\""
   ]
  },
  {
   "cell_type": "code",
   "execution_count": 10,
   "metadata": {},
   "outputs": [
    {
     "name": "stdout",
     "output_type": "stream",
     "text": [
      "Count Vectors Doğruluk Oranı: 0.8923755319694404\n",
      "Count Vectors Recall: 0.9952941176470589\n",
      "Count Vectors Precision: 0.8890536877461187\n",
      "Count Vectors F1 Score: 0.6623568768424763\n"
     ]
    }
   ],
   "source": [
    "rf = ensemble.RandomForestClassifier()\n",
    "rf_model = rf.fit(x_train_count,train_y)\n",
    "\n",
    "accuracy8 = model_selection.cross_val_score(rf_model, x_test_count, test_y, cv = 10).mean()\n",
    "recall8 = model_selection.cross_val_score(rf_model, x_test_count, test_y, cv=10, scoring='recall').mean()\n",
    "precision8 = model_selection.cross_val_score(rf_model, x_test_count, test_y, cv=10, scoring='precision').mean()\n",
    "f1_score8 =  model_selection.cross_val_score(rf_model, x_test_count, test_y, cv=10, scoring='f1_macro').mean()\n",
    "\n",
    "print(\"Count Vectors Doğruluk Oranı:\", accuracy8)\n",
    "print(\"Count Vectors Recall:\", recall8)\n",
    "print(\"Count Vectors Precision:\", precision8)\n",
    "print(\"Count Vectors F1 Score:\", f1_score8)"
   ]
  },
  {
   "cell_type": "code",
   "execution_count": 17,
   "metadata": {},
   "outputs": [
    {
     "name": "stdout",
     "output_type": "stream",
     "text": [
      "Word-Level TF-IDF Doğruluk Oranı: 0.8807516792288366\n",
      "Word-Level TF-IDF Recall: 0.9994117647058823\n",
      "Word-Level TF-IDF Precision: 0.8804961687112561\n",
      "Word-Level TF-IDF F1 Score: 0.611834190789268\n"
     ]
    }
   ],
   "source": [
    "rf1 = ensemble.RandomForestClassifier()\n",
    "rf_model1 = rf1.fit(x_train_tf_idf_word,train_y)\n",
    "\n",
    "accuracy9 = model_selection.cross_val_score(rf_model1, x_test_tf_idf_word, test_y, cv = 10).mean()\n",
    "recall9 = model_selection.cross_val_score(rf_model1, x_test_tf_idf_word, test_y, cv=10, scoring='recall').mean()\n",
    "precision9 = model_selection.cross_val_score(rf_model1, x_test_tf_idf_word, test_y, cv=10, scoring='precision').mean()\n",
    "f1_score9 =  model_selection.cross_val_score(rf_model1, x_test_tf_idf_word, test_y, cv=10, scoring='f1_macro').mean()\n",
    "\n",
    "print(\"Word-Level TF-IDF Doğruluk Oranı:\", accuracy9)\n",
    "print(\"Word-Level TF-IDF Recall:\", recall9)\n",
    "print(\"Word-Level TF-IDF Precision:\", precision9)\n",
    "print(\"Word-Level TF-IDF F1 Score:\", f1_score9)"
   ]
  },
  {
   "cell_type": "code",
   "execution_count": 19,
   "metadata": {},
   "outputs": [
    {
     "name": "stdout",
     "output_type": "stream",
     "text": [
      "CHARLEVEL TF-IDF Doğruluk Oranı: 0.8671050607598831\n",
      "CHARLEVEL TF-IDF Recall: 0.9994117647058823\n",
      "CHARLEVEL TF-IDF Precision: 0.8677509250478792\n",
      "CHARLEVEL TF-IDF F1 Score: 0.4989397846056839\n"
     ]
    }
   ],
   "source": [
    "rf3 = ensemble.RandomForestClassifier()\n",
    "rf_model3 = rf3.fit(x_train_tf_idf_chars,train_y)\n",
    "\n",
    "accuracy11 = model_selection.cross_val_score(rf_model3, x_test_tf_idf_chars, test_y, cv = 10).mean()\n",
    "recall11 = model_selection.cross_val_score(rf_model3, x_test_tf_idf_chars, test_y, cv=10, scoring='recall').mean()\n",
    "precision11 = model_selection.cross_val_score(rf_model3, x_test_tf_idf_chars, test_y, cv=10, scoring='precision').mean()\n",
    "f1_score11 =  model_selection.cross_val_score(rf_model3, x_test_tf_idf_chars, test_y, cv=10, scoring='f1_macro').mean()\n",
    "\n",
    "print(\"CHARLEVEL TF-IDF Doğruluk Oranı:\", accuracy11)\n",
    "print(\"CHARLEVEL TF-IDF Recall:\", recall11)\n",
    "print(\"CHARLEVEL TF-IDF Precision:\", precision11)\n",
    "print(\"CHARLEVEL TF-IDF F1 Score:\", f1_score11)"
   ]
  },
  {
   "cell_type": "markdown",
   "metadata": {},
   "source": [
    "# graph"
   ]
  },
  {
   "cell_type": "code",
   "execution_count": 21,
   "metadata": {},
   "outputs": [
    {
     "data": {
      "image/png": "[encoded data removed]",
      "text/plain": [
       "<Figure size 432x288 with 1 Axes>"
      ]
     },
     "metadata": {
      "needs_background": "light"
     },
     "output_type": "display_data"
    }
   ],
   "source": [
    "import numpy as np\n",
    "import matplotlib.pyplot as plt\n",
    "\n",
    "# data to plot\n",
    "n_groups = 3\n",
    "cv = (accuracy, accuracy4, accuracy8)\n",
    "word = (accuracy1, accuracy5, accuracy9)\n",
    "ngram = (accuracy2, accuracy6, 0.87)\n",
    "char = (accuracy3, accuracy7, accuracy11)\n",
    "# create plot\n",
    "fig, ax = plt.subplots()\n",
    "index = np.arange(n_groups)\n",
    "bar_width = 0.15\n",
    "opacity = 0.8\n",
    "\n",
    "rects1 = plt.bar(index, cv, bar_width,\n",
    "alpha=opacity,\n",
    "color='purple',\n",
    "label='countvector')\n",
    "\n",
    "rects2 = plt.bar(index + bar_width, word, bar_width,\n",
    "alpha=opacity,\n",
    "color='g',\n",
    "label='tf-idf word')\n",
    "\n",
    "rects3 = plt.bar(index + bar_width*2, ngram, bar_width,\n",
    "alpha=opacity,\n",
    "color='red',\n",
    "label='tf-idf ngram')\n",
    "\n",
    "rects3 = plt.bar(index + bar_width*3, char, bar_width,\n",
    "alpha=opacity,\n",
    "color='pink',\n",
    "label='tf-idf char')\n",
    "\n",
    "plt.xlabel('Algorithym')\n",
    "plt.ylabel('%')\n",
    "plt.title(' Datafiniti Hotel Reviews - Accuracy')\n",
    "plt.xticks(index + bar_width/4, ('Lojistic Regression', 'Naive Bayes', 'Random Forest'))\n",
    "plt.legend()\n",
    "\n",
    "plt.tight_layout()\n",
    "plt.show()"
   ]
  },
  {
   "cell_type": "code",
   "execution_count": 22,
   "metadata": {},
   "outputs": [
    {
     "data": {
      "image/png": "[encoded data removed]",
      "text/plain": [
       "<Figure size 432x288 with 1 Axes>"
      ]
     },
     "metadata": {
      "needs_background": "light"
     },
     "output_type": "display_data"
    }
   ],
   "source": [
    "import numpy as np\n",
    "import matplotlib.pyplot as plt\n",
    "\n",
    "# data to plot\n",
    "n_groups = 3\n",
    "cv = (f1_score, f1_score4, f1_score8)\n",
    "word = (f1_score1, f1_score5, f1_score9)\n",
    "ngram = (f1_score2, f1_score6, 0.5260)\n",
    "char = (f1_score3, f1_score7, f1_score11)\n",
    "# create plot\n",
    "fig, ax = plt.subplots()\n",
    "index = np.arange(n_groups)\n",
    "bar_width = 0.15\n",
    "opacity = 0.8\n",
    "\n",
    "rects1 = plt.bar(index, cv, bar_width,\n",
    "alpha=opacity,\n",
    "color='purple',\n",
    "label='countvector')\n",
    "\n",
    "rects2 = plt.bar(index + bar_width, word, bar_width,\n",
    "alpha=opacity,\n",
    "color='g',\n",
    "label='tf-idf word')\n",
    "\n",
    "rects3 = plt.bar(index + bar_width*2, ngram, bar_width,\n",
    "alpha=opacity,\n",
    "color='red',\n",
    "label='tf-idf ngram')\n",
    "\n",
    "rects3 = plt.bar(index + bar_width*3, char, bar_width,\n",
    "alpha=opacity,\n",
    "color='pink',\n",
    "label='tf-idf char')\n",
    "\n",
    "plt.xlabel('Algorithym')\n",
    "plt.ylabel('%')\n",
    "plt.title(\"Datafiniti Hotel Reviews - F1 Score\")\n",
    "plt.xticks(index + bar_width/4, ('Lojistic Regression', 'Naive Bayes', 'Random Forest'))\n",
    "plt.legend()\n",
    "\n",
    "plt.tight_layout()\n",
    "plt.show()"
   ]
  },
  {
   "cell_type": "code",
   "execution_count": 14,
   "metadata": {},
   "outputs": [
    {
     "data": {
      "image/png": "[encoded data removed]",
      "text/plain": [
       "<Figure size 432x288 with 1 Axes>"
      ]
     },
     "metadata": {
      "needs_background": "light"
     },
     "output_type": "display_data"
    }
   ],
   "source": [
    "import numpy as np\n",
    "import matplotlib.pyplot as plt\n",
    "\n",
    "# data to plot\n",
    "n_groups = 3\n",
    "rc = (recall, recall4, recall8)\n",
    "pc = (precision, precision4, precision8)\n",
    "\n",
    "# create plot\n",
    "fig, ax = plt.subplots()\n",
    "index = np.arange(n_groups)\n",
    "bar_width = 0.15\n",
    "opacity = 0.8\n",
    "\n",
    "rects1 = plt.bar(index, rc, bar_width,\n",
    "alpha=opacity,\n",
    "color='red',\n",
    "label='Recall')\n",
    "\n",
    "rects2 = plt.bar(index + bar_width, pc, bar_width,\n",
    "alpha=opacity,\n",
    "color='blue',\n",
    "label='Precision')\n",
    "\n",
    "\n",
    "plt.xlabel('Algorithym')\n",
    "plt.ylabel('%')\n",
    "plt.title(\"Datafiniti Hotel Reviews\")\n",
    "plt.xticks(index + bar_width/2, ('Lojistic Regression', 'Naive Bayes', 'Random Forest'))\n",
    "plt.legend()\n",
    "\n",
    "plt.tight_layout()\n",
    "plt.show()"
   ]
  },
  {
   "cell_type": "code",
   "execution_count": null,
   "metadata": {},
   "outputs": [],
   "source": []
  },
  {
   "cell_type": "code",
   "execution_count": null,
   "metadata": {},
   "outputs": [],
   "source": []
  },
  {
   "cell_type": "code",
   "execution_count": null,
   "metadata": {},
   "outputs": [],
   "source": []
  },
  {
   "cell_type": "code",
   "execution_count": null,
   "metadata": {},
   "outputs": [],
   "source": []
  },
  {
   "cell_type": "code",
   "execution_count": null,
   "metadata": {},
   "outputs": [],
   "source": []
  },
  {
   "cell_type": "code",
   "execution_count": null,
   "metadata": {},
   "outputs": [],
   "source": []
  }
 ],
 "metadata": {
  "kernelspec": {
   "display_name": "Python 3",
   "language": "python",
   "name": "python3"
  },
  "language_info": {
   "codemirror_mode": {
    "name": "ipython",
    "version": 3
   },
   "file_extension": ".py",
   "mimetype": "text/x-python",
   "name": "python",
   "nbconvert_exporter": "python",
   "pygments_lexer": "ipython3",
   "version": "3.6.12"
  }
 },
 "nbformat": 4,
 "nbformat_minor": 4
}
